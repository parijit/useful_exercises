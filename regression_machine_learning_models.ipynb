{
  "nbformat": 4,
  "nbformat_minor": 0,
  "metadata": {
    "colab": {
      "provenance": [],
      "include_colab_link": true
    },
    "kernelspec": {
      "name": "python3",
      "display_name": "Python 3"
    },
    "language_info": {
      "name": "python"
    }
  },
  "cells": [
    {
      "cell_type": "markdown",
      "metadata": {
        "id": "view-in-github",
        "colab_type": "text"
      },
      "source": [
        "<a href=\"https://colab.research.google.com/github/parijit/useful_exercises/blob/main/regression_machine_learning_models.ipynb\" target=\"_parent\"><img src=\"https://colab.research.google.com/assets/colab-badge.svg\" alt=\"Open In Colab\"/></a>"
      ]
    },
    {
      "cell_type": "markdown",
      "source": [
        "# Import library"
      ],
      "metadata": {
        "id": "OmKAtVWkiuRW"
      }
    },
    {
      "cell_type": "code",
      "source": [
        "import pandas as pd\n",
        "import numpy as np\n",
        "import tensorflow\n",
        "import xgboost\n",
        "import matplotlib.pyplot as plt\n",
        "from sklearn.impute import SimpleImputer #for imputation\n",
        "from sklearn.compose import ColumnTransformer #for encoding categoriccal variables\n",
        "from sklearn.preprocessing import OneHotEncoder\n",
        "from sklearn.preprocessing import LabelEncoder #for encoding dependent variable labels \n",
        "from sklearn.model_selection import train_test_split #for splitting randomly\n",
        "from sklearn.preprocessing import StandardScaler\n",
        "from sklearn.linear_model import LinearRegression # for simple linear regression\n",
        "from sklearn.preprocessing import PolynomialFeatures # for creating the powered features of polynomial Regression"
      ],
      "metadata": {
        "id": "6epchOofUwr5"
      },
      "execution_count": 1,
      "outputs": []
    },
    {
      "cell_type": "markdown",
      "source": [
        "# Import Dataset"
      ],
      "metadata": {
        "id": "EVojEw3ui_LV"
      }
    },
    {
      "cell_type": "code",
      "source": [
        "from google.colab import drive\n",
        "drive.mount('/content/drive')"
      ],
      "metadata": {
        "colab": {
          "base_uri": "https://localhost:8080/"
        },
        "id": "atxqtiEEjEs3",
        "outputId": "cb6129e6-7d40-43d4-f1be-1dc5a78b8e2b"
      },
      "execution_count": 2,
      "outputs": [
        {
          "output_type": "stream",
          "name": "stdout",
          "text": [
            "Mounted at /content/drive\n"
          ]
        }
      ]
    },
    {
      "cell_type": "code",
      "source": [
        "df =pd.read_csv('/content/drive/MyDrive/Machine Learning A-Z (Codes and Datasets)/Part 1 - Data Preprocessing/Section 2 -------------------- Part 1 - Data Preprocessing --------------------/Python/Data.csv')"
      ],
      "metadata": {
        "id": "09Xjd056jFG_"
      },
      "execution_count": 3,
      "outputs": []
    },
    {
      "cell_type": "code",
      "source": [
        "x=df.iloc[:,:-1].values\n",
        "y=df.iloc[:,-1].values"
      ],
      "metadata": {
        "id": "rJmVjw-1jZMu"
      },
      "execution_count": 4,
      "outputs": []
    },
    {
      "cell_type": "code",
      "source": [
        "print(x)\n",
        "print(y)"
      ],
      "metadata": {
        "colab": {
          "base_uri": "https://localhost:8080/"
        },
        "id": "-Id0SH3oj4ed",
        "outputId": "70607538-2224-4fb2-d6a0-6e602c702f4b"
      },
      "execution_count": 5,
      "outputs": [
        {
          "output_type": "stream",
          "name": "stdout",
          "text": [
            "[['France' 44.0 72000.0]\n",
            " ['Spain' 27.0 48000.0]\n",
            " ['Germany' 30.0 54000.0]\n",
            " ['Spain' 38.0 61000.0]\n",
            " ['Germany' 40.0 nan]\n",
            " ['France' 35.0 58000.0]\n",
            " ['Spain' nan 52000.0]\n",
            " ['France' 48.0 79000.0]\n",
            " ['Germany' 50.0 83000.0]\n",
            " ['France' 37.0 67000.0]]\n",
            "['No' 'Yes' 'No' 'No' 'Yes' 'Yes' 'No' 'Yes' 'No' 'Yes']\n"
          ]
        }
      ]
    },
    {
      "cell_type": "markdown",
      "source": [
        "# Missing Data treatment\n"
      ],
      "metadata": {
        "id": "5ENaB0U-nKff"
      }
    },
    {
      "cell_type": "code",
      "source": [
        "imputer = SimpleImputer(missing_values=np.nan, strategy = 'mean' )\n",
        "imputer.fit(x[:,1:3])\n",
        "x[:,1:3] =imputer.transform(x[:,1:3])"
      ],
      "metadata": {
        "id": "TuVN7xFelI2N"
      },
      "execution_count": 6,
      "outputs": []
    },
    {
      "cell_type": "code",
      "source": [
        "print(x)"
      ],
      "metadata": {
        "colab": {
          "base_uri": "https://localhost:8080/"
        },
        "id": "v1rMvpbOpzef",
        "outputId": "a927d612-6234-42f8-d90f-36f0aa8e3d2d"
      },
      "execution_count": 7,
      "outputs": [
        {
          "output_type": "stream",
          "name": "stdout",
          "text": [
            "[['France' 44.0 72000.0]\n",
            " ['Spain' 27.0 48000.0]\n",
            " ['Germany' 30.0 54000.0]\n",
            " ['Spain' 38.0 61000.0]\n",
            " ['Germany' 40.0 63777.77777777778]\n",
            " ['France' 35.0 58000.0]\n",
            " ['Spain' 38.77777777777778 52000.0]\n",
            " ['France' 48.0 79000.0]\n",
            " ['Germany' 50.0 83000.0]\n",
            " ['France' 37.0 67000.0]]\n"
          ]
        }
      ]
    },
    {
      "cell_type": "markdown",
      "source": [
        "# Encoding Categorical Data"
      ],
      "metadata": {
        "id": "1qdGZxVbp7oe"
      }
    },
    {
      "cell_type": "markdown",
      "source": [
        "***Encoding independent variable***\n",
        "\n",
        "---\n",
        "\n"
      ],
      "metadata": {
        "id": "_0GjiJEpqe39"
      }
    },
    {
      "cell_type": "code",
      "source": [
        "ct = ColumnTransformer(transformers=[('encoder',OneHotEncoder(),[0])], remainder='passthrough') \n",
        "#pass through keeps other columns intact and doesnt drops them if we dont encode"
      ],
      "metadata": {
        "id": "15ccaA1Yp1SH"
      },
      "execution_count": 8,
      "outputs": []
    },
    {
      "cell_type": "code",
      "source": [
        "x = np.array(ct.fit_transform(x)) # we have force fit into array since x is already an array "
      ],
      "metadata": {
        "id": "IbIlvd6wsgUs"
      },
      "execution_count": 9,
      "outputs": []
    },
    {
      "cell_type": "code",
      "source": [
        "print(x)"
      ],
      "metadata": {
        "colab": {
          "base_uri": "https://localhost:8080/"
        },
        "id": "WrdWLeZ-uIA3",
        "outputId": "23fdb9a5-da5c-4a7a-c479-f5920e049ed1"
      },
      "execution_count": 10,
      "outputs": [
        {
          "output_type": "stream",
          "name": "stdout",
          "text": [
            "[[1.0 0.0 0.0 44.0 72000.0]\n",
            " [0.0 0.0 1.0 27.0 48000.0]\n",
            " [0.0 1.0 0.0 30.0 54000.0]\n",
            " [0.0 0.0 1.0 38.0 61000.0]\n",
            " [0.0 1.0 0.0 40.0 63777.77777777778]\n",
            " [1.0 0.0 0.0 35.0 58000.0]\n",
            " [0.0 0.0 1.0 38.77777777777778 52000.0]\n",
            " [1.0 0.0 0.0 48.0 79000.0]\n",
            " [0.0 1.0 0.0 50.0 83000.0]\n",
            " [1.0 0.0 0.0 37.0 67000.0]]\n"
          ]
        }
      ]
    },
    {
      "cell_type": "markdown",
      "source": [
        "***Encoding dependent variable***\n",
        "\n",
        "---\n",
        "\n",
        "\n",
        "\n",
        "\n",
        "\n"
      ],
      "metadata": {
        "id": "HmU6IsvEqndP"
      }
    },
    {
      "cell_type": "code",
      "source": [
        "le =LabelEncoder()\n",
        "y = le.fit_transform(y)"
      ],
      "metadata": {
        "id": "28S-QxSxqomv"
      },
      "execution_count": 11,
      "outputs": []
    },
    {
      "cell_type": "code",
      "source": [
        "print(y)"
      ],
      "metadata": {
        "colab": {
          "base_uri": "https://localhost:8080/"
        },
        "id": "KIScZZcRvLv1",
        "outputId": "f7f241c2-799f-4311-97ae-d5a6a1079703"
      },
      "execution_count": 12,
      "outputs": [
        {
          "output_type": "stream",
          "name": "stdout",
          "text": [
            "[0 1 0 0 1 1 0 1 0 1]\n"
          ]
        }
      ]
    },
    {
      "cell_type": "markdown",
      "source": [
        "***Splitting Dataset***\n",
        "\n",
        "---\n",
        "\n"
      ],
      "metadata": {
        "id": "mTdKfFwsqvTE"
      }
    },
    {
      "cell_type": "code",
      "source": [
        "xtrain,xtest,ytrain,ysplit =train_test_split(x,y,test_size=0.2,random_state=1)\n",
        "# fix the seed so that we get values from same seed in \n",
        "#the variables so that we get the corresponding values; takes all variable randomly "
      ],
      "metadata": {
        "id": "MmXB44E5qrVj"
      },
      "execution_count": 13,
      "outputs": []
    },
    {
      "cell_type": "code",
      "source": [
        "print(xtrain)"
      ],
      "metadata": {
        "colab": {
          "base_uri": "https://localhost:8080/"
        },
        "id": "gqyAyKdSzNvA",
        "outputId": "51763425-eafd-4f46-d838-77d7f1aa6e7f"
      },
      "execution_count": 14,
      "outputs": [
        {
          "output_type": "stream",
          "name": "stdout",
          "text": [
            "[[0.0 0.0 1.0 38.77777777777778 52000.0]\n",
            " [0.0 1.0 0.0 40.0 63777.77777777778]\n",
            " [1.0 0.0 0.0 44.0 72000.0]\n",
            " [0.0 0.0 1.0 38.0 61000.0]\n",
            " [0.0 0.0 1.0 27.0 48000.0]\n",
            " [1.0 0.0 0.0 48.0 79000.0]\n",
            " [0.0 1.0 0.0 50.0 83000.0]\n",
            " [1.0 0.0 0.0 35.0 58000.0]]\n"
          ]
        }
      ]
    },
    {
      "cell_type": "code",
      "source": [
        "print(xtest)"
      ],
      "metadata": {
        "colab": {
          "base_uri": "https://localhost:8080/"
        },
        "id": "_snhwiY2zNpb",
        "outputId": "f01023bc-9290-472b-e881-57c8181b691d"
      },
      "execution_count": 15,
      "outputs": [
        {
          "output_type": "stream",
          "name": "stdout",
          "text": [
            "[[0.0 1.0 0.0 30.0 54000.0]\n",
            " [1.0 0.0 0.0 37.0 67000.0]]\n"
          ]
        }
      ]
    },
    {
      "cell_type": "code",
      "source": [
        "print(ytrain)"
      ],
      "metadata": {
        "colab": {
          "base_uri": "https://localhost:8080/"
        },
        "id": "9SmSmP9izNhm",
        "outputId": "d0fdc9af-38f6-469e-8164-ca6ee0d02d91"
      },
      "execution_count": 16,
      "outputs": [
        {
          "output_type": "stream",
          "name": "stdout",
          "text": [
            "[0 1 0 0 1 1 0 1]\n"
          ]
        }
      ]
    },
    {
      "cell_type": "code",
      "source": [
        "print(ysplit)"
      ],
      "metadata": {
        "colab": {
          "base_uri": "https://localhost:8080/"
        },
        "id": "ksMrrZz8zNQV",
        "outputId": "9be749ed-e0c9-4e60-a7dc-38a3975b2085"
      },
      "execution_count": 17,
      "outputs": [
        {
          "output_type": "stream",
          "name": "stdout",
          "text": [
            "[0 1]\n"
          ]
        }
      ]
    },
    {
      "cell_type": "markdown",
      "source": [
        "***Feature Scaling***\n",
        "\n",
        "---\n",
        "\n"
      ],
      "metadata": {
        "id": "IM3k9kyEqptQ"
      }
    },
    {
      "cell_type": "code",
      "source": [
        "sc= StandardScaler()\n",
        "xtrain[:,1:3]=sc.fit_transform(xtrain[:,1:3])\n",
        "xtest[:,1:3]=sc.transform(xtest[:,1:3])"
      ],
      "metadata": {
        "id": "UsBi5tSWqwvK"
      },
      "execution_count": 18,
      "outputs": []
    },
    {
      "cell_type": "code",
      "source": [
        "print(xtrain)"
      ],
      "metadata": {
        "colab": {
          "base_uri": "https://localhost:8080/"
        },
        "id": "LFLbc4Gd121W",
        "outputId": "938f804f-bcbe-461d-ecb0-97b4a2eace9c"
      },
      "execution_count": 19,
      "outputs": [
        {
          "output_type": "stream",
          "name": "stdout",
          "text": [
            "[[0.0 -0.5773502691896258 1.2909944487358056 38.77777777777778 52000.0]\n",
            " [0.0 1.7320508075688774 -0.7745966692414834 40.0 63777.77777777778]\n",
            " [1.0 -0.5773502691896258 -0.7745966692414834 44.0 72000.0]\n",
            " [0.0 -0.5773502691896258 1.2909944487358056 38.0 61000.0]\n",
            " [0.0 -0.5773502691896258 1.2909944487358056 27.0 48000.0]\n",
            " [1.0 -0.5773502691896258 -0.7745966692414834 48.0 79000.0]\n",
            " [0.0 1.7320508075688774 -0.7745966692414834 50.0 83000.0]\n",
            " [1.0 -0.5773502691896258 -0.7745966692414834 35.0 58000.0]]\n"
          ]
        }
      ]
    },
    {
      "cell_type": "code",
      "source": [
        "print(xtest)"
      ],
      "metadata": {
        "colab": {
          "base_uri": "https://localhost:8080/"
        },
        "id": "r5LhPZeX4WLU",
        "outputId": "769c55ea-4b6f-464a-b1d2-f3b33eaaed5f"
      },
      "execution_count": 20,
      "outputs": [
        {
          "output_type": "stream",
          "name": "stdout",
          "text": [
            "[[0.0 1.7320508075688774 -0.7745966692414834 30.0 54000.0]\n",
            " [1.0 -0.5773502691896258 -0.7745966692414834 37.0 67000.0]]\n"
          ]
        }
      ]
    },
    {
      "cell_type": "markdown",
      "source": [
        "# Simple Linear Regression\n"
      ],
      "metadata": {
        "id": "EhzhsT39zIrb"
      }
    },
    {
      "cell_type": "markdown",
      "source": [
        "***Import Dataset***\n",
        "\n",
        "---\n",
        "\n"
      ],
      "metadata": {
        "id": "2pvApWiU1SBp"
      }
    },
    {
      "cell_type": "code",
      "source": [
        "df =pd.read_csv('/content/drive/MyDrive/Machine Learning A-Z (Codes and Datasets)/Part 2 - Regression/Section 4 - Simple Linear Regression/Python/Salary_Data.csv')\n"
      ],
      "metadata": {
        "id": "L3_GrUkO4Xmj"
      },
      "execution_count": 21,
      "outputs": []
    },
    {
      "cell_type": "markdown",
      "source": [
        "***Splitting x and y***\n",
        "\n",
        "---\n",
        "\n"
      ],
      "metadata": {
        "id": "n0DFeFQY1o21"
      }
    },
    {
      "cell_type": "code",
      "source": [
        "x = df.iloc[:,0:1].values\n",
        "y = df.iloc[:,-1].values"
      ],
      "metadata": {
        "id": "0wLi22401g1F"
      },
      "execution_count": 22,
      "outputs": []
    },
    {
      "cell_type": "code",
      "source": [
        "print(x)\n",
        "print(y)"
      ],
      "metadata": {
        "colab": {
          "base_uri": "https://localhost:8080/"
        },
        "id": "htqKNIU512La",
        "outputId": "9363c78d-df51-4355-e6bc-abef3a7a25ce"
      },
      "execution_count": 23,
      "outputs": [
        {
          "output_type": "stream",
          "name": "stdout",
          "text": [
            "[[ 1.1]\n",
            " [ 1.3]\n",
            " [ 1.5]\n",
            " [ 2. ]\n",
            " [ 2.2]\n",
            " [ 2.9]\n",
            " [ 3. ]\n",
            " [ 3.2]\n",
            " [ 3.2]\n",
            " [ 3.7]\n",
            " [ 3.9]\n",
            " [ 4. ]\n",
            " [ 4. ]\n",
            " [ 4.1]\n",
            " [ 4.5]\n",
            " [ 4.9]\n",
            " [ 5.1]\n",
            " [ 5.3]\n",
            " [ 5.9]\n",
            " [ 6. ]\n",
            " [ 6.8]\n",
            " [ 7.1]\n",
            " [ 7.9]\n",
            " [ 8.2]\n",
            " [ 8.7]\n",
            " [ 9. ]\n",
            " [ 9.5]\n",
            " [ 9.6]\n",
            " [10.3]\n",
            " [10.5]]\n",
            "[ 39343.  46205.  37731.  43525.  39891.  56642.  60150.  54445.  64445.\n",
            "  57189.  63218.  55794.  56957.  57081.  61111.  67938.  66029.  83088.\n",
            "  81363.  93940.  91738.  98273. 101302. 113812. 109431. 105582. 116969.\n",
            " 112635. 122391. 121872.]\n"
          ]
        }
      ]
    },
    {
      "cell_type": "markdown",
      "source": [
        "***Split data***\n",
        "\n",
        "---\n",
        "\n"
      ],
      "metadata": {
        "id": "WiDQLyzZ3YUY"
      }
    },
    {
      "cell_type": "code",
      "source": [
        "x_train,x_test,y_train,y_test = train_test_split(x,y,test_size = 0.2, random_state = 1)"
      ],
      "metadata": {
        "id": "SxAFYV7g2n36"
      },
      "execution_count": 24,
      "outputs": []
    },
    {
      "cell_type": "code",
      "source": [
        "print(x_train)"
      ],
      "metadata": {
        "colab": {
          "base_uri": "https://localhost:8080/"
        },
        "id": "WIf5gJp42yQa",
        "outputId": "481a3873-05c9-4b03-8109-2e09b16adbd4"
      },
      "execution_count": 25,
      "outputs": [
        {
          "output_type": "stream",
          "name": "stdout",
          "text": [
            "[[ 9.5]\n",
            " [ 2. ]\n",
            " [ 8.7]\n",
            " [ 7.9]\n",
            " [ 8.2]\n",
            " [ 2.2]\n",
            " [ 1.5]\n",
            " [ 9. ]\n",
            " [ 3. ]\n",
            " [ 5.9]\n",
            " [ 4.1]\n",
            " [ 3.2]\n",
            " [ 9.6]\n",
            " [ 1.3]\n",
            " [ 5.1]\n",
            " [ 1.1]\n",
            " [ 4.9]\n",
            " [10.5]\n",
            " [10.3]\n",
            " [ 3.7]\n",
            " [ 3.2]\n",
            " [ 4. ]\n",
            " [ 4. ]\n",
            " [ 2.9]]\n"
          ]
        }
      ]
    },
    {
      "cell_type": "code",
      "source": [
        "print(x_test)"
      ],
      "metadata": {
        "colab": {
          "base_uri": "https://localhost:8080/"
        },
        "id": "YL64ajoC3_Le",
        "outputId": "7dbb92ac-010e-46ec-d033-5fe5f1a4f640"
      },
      "execution_count": 26,
      "outputs": [
        {
          "output_type": "stream",
          "name": "stdout",
          "text": [
            "[[5.3]\n",
            " [7.1]\n",
            " [3.9]\n",
            " [6. ]\n",
            " [4.5]\n",
            " [6.8]]\n"
          ]
        }
      ]
    },
    {
      "cell_type": "code",
      "source": [
        "print(y_train)"
      ],
      "metadata": {
        "colab": {
          "base_uri": "https://localhost:8080/"
        },
        "id": "bf3ZSiic4BNH",
        "outputId": "3a3fce55-8b0b-4113-d152-1ddd136e121e"
      },
      "execution_count": 27,
      "outputs": [
        {
          "output_type": "stream",
          "name": "stdout",
          "text": [
            "[116969.  43525. 109431. 101302. 113812.  39891.  37731. 105582.  60150.\n",
            "  81363.  57081.  54445. 112635.  46205.  66029.  39343.  67938. 121872.\n",
            " 122391.  57189.  64445.  56957.  55794.  56642.]\n"
          ]
        }
      ]
    },
    {
      "cell_type": "code",
      "source": [
        "print(y_test)"
      ],
      "metadata": {
        "colab": {
          "base_uri": "https://localhost:8080/"
        },
        "id": "MDuvVDoD4DYf",
        "outputId": "880d47ef-1ccd-4c2c-a6df-661cba89691a"
      },
      "execution_count": 28,
      "outputs": [
        {
          "output_type": "stream",
          "name": "stdout",
          "text": [
            "[83088. 98273. 63218. 93940. 61111. 91738.]\n"
          ]
        }
      ]
    },
    {
      "cell_type": "markdown",
      "source": [
        "***Training linear regression***\n",
        "\n",
        "---\n",
        "\n"
      ],
      "metadata": {
        "id": "BXVFZghf4S_k"
      }
    },
    {
      "cell_type": "code",
      "source": [
        "regressor = LinearRegression()\n",
        "regressor.fit(x_train,y_train)"
      ],
      "metadata": {
        "colab": {
          "base_uri": "https://localhost:8080/"
        },
        "id": "Gdr_pv-14Euq",
        "outputId": "d7cf76e9-dc28-412f-a396-db1e5a27403a"
      },
      "execution_count": 29,
      "outputs": [
        {
          "output_type": "execute_result",
          "data": {
            "text/plain": [
              "LinearRegression()"
            ]
          },
          "metadata": {},
          "execution_count": 29
        }
      ]
    },
    {
      "cell_type": "markdown",
      "source": [
        "***Regression predicting***\n",
        "\n",
        "---\n",
        "\n"
      ],
      "metadata": {
        "id": "5CYin3rq52BU"
      }
    },
    {
      "cell_type": "code",
      "source": [
        "y_pred = regressor.predict(x_test) #predicted values"
      ],
      "metadata": {
        "id": "QQ7UL5KA5PR9"
      },
      "execution_count": 30,
      "outputs": []
    },
    {
      "cell_type": "markdown",
      "source": [
        "***Visualising training set result***\n",
        "\n",
        "---\n",
        "\n"
      ],
      "metadata": {
        "id": "uCG-zAbbOIqS"
      }
    },
    {
      "cell_type": "code",
      "source": [
        "plt.scatter(x_train,y_train, color='red')\n",
        "plt.plot(x_train,regressor.predict(x_train),color ='blue')\n",
        "plt.title('Salary vs Experience (Training set)')\n",
        "plt.xlabel('Years of Experience')\n",
        "plt.ylabel('Salary')\n",
        "plt.show()"
      ],
      "metadata": {
        "colab": {
          "base_uri": "https://localhost:8080/",
          "height": 295
        },
        "id": "Vat93f7m6STX",
        "outputId": "25264a15-e59c-4439-f656-f799ab6abc8c"
      },
      "execution_count": 31,
      "outputs": [
        {
          "output_type": "display_data",
          "data": {
            "text/plain": [
              "<Figure size 432x288 with 1 Axes>"
            ],
            "image/png": "[encoded data removed]"
          },
          "metadata": {
            "needs_background": "light"
          }
        }
      ]
    },
    {
      "cell_type": "markdown",
      "source": [
        "***Visualizing test set result***\n",
        "\n",
        "---"
      ],
      "metadata": {
        "id": "bLsZ6PrbOQob"
      }
    },
    {
      "cell_type": "code",
      "source": [
        "plt.scatter(x_test,y_test, color='red')\n",
        "plt.plot(x_train,regressor.predict(x_train),color ='blue')\n",
        "plt.title('Salary vs Experience (Test set)')\n",
        "plt.xlabel('Years of Experience')\n",
        "plt.ylabel('Salary')\n",
        "plt.show()"
      ],
      "metadata": {
        "colab": {
          "base_uri": "https://localhost:8080/",
          "height": 295
        },
        "id": "ykJN2guNOXzy",
        "outputId": "bdeef295-c005-4e83-a2cb-b748cc749e19"
      },
      "execution_count": 32,
      "outputs": [
        {
          "output_type": "display_data",
          "data": {
            "text/plain": [
              "<Figure size 432x288 with 1 Axes>"
            ],
            "image/png": "[encoded data removed]"
          },
          "metadata": {
            "needs_background": "light"
          }
        }
      ]
    },
    {
      "cell_type": "code",
      "source": [
        "print(regressor.predict([[12]]))"
      ],
      "metadata": {
        "colab": {
          "base_uri": "https://localhost:8080/"
        },
        "id": "lmOE5dX4PQgR",
        "outputId": "9202c32d-5da3-46c8-82b1-e575056013e9"
      },
      "execution_count": 33,
      "outputs": [
        {
          "output_type": "stream",
          "name": "stdout",
          "text": [
            "[137605.23485427]\n"
          ]
        }
      ]
    },
    {
      "cell_type": "markdown",
      "source": [
        "\n",
        "**Important note:** The value of the feature (12 years) was input in a double pair of square brackets. That's because the \"predict\" method always expects a 2D array as the format of its inputs. And putting 12 into a double pair of square brackets makes the input exactly a 2D array. So:\n",
        "\n",
        "$12 \\rightarrow \\textrm{scalar}$\n",
        "\n",
        "$[12] \\rightarrow \\textrm{1D array}$\n",
        "\n",
        "$[[12]] \\rightarrow \\textrm{2D array}$"
      ],
      "metadata": {
        "id": "mM8YjkmlQvX0"
      }
    },
    {
      "cell_type": "code",
      "source": [
        "print(regressor.coef_)\n",
        "print(regressor.intercept_)"
      ],
      "metadata": {
        "colab": {
          "base_uri": "https://localhost:8080/"
        },
        "id": "LEOqtY2NQm6h",
        "outputId": "82116d59-5044-4260-8825-44b196bdb536"
      },
      "execution_count": 34,
      "outputs": [
        {
          "output_type": "stream",
          "name": "stdout",
          "text": [
            "[9332.94473799]\n",
            "25609.89799835482\n"
          ]
        }
      ]
    },
    {
      "cell_type": "markdown",
      "source": [
        "Therefore, the equation :\n",
        "\n",
        "$$\\textrm{Salary} = 9332.94 \\times \\textrm{YearsExperience} + 25609.89$$\n",
        "\n",
        "**Important Note:** To get these coefficients call \"coef_\" and \"intercept_\" attributes from regressor.\n"
      ],
      "metadata": {
        "id": "6dGi18xmQ0Pl"
      }
    },
    {
      "cell_type": "code",
      "source": [],
      "metadata": {
        "id": "XTBiXt0aQyrB"
      },
      "execution_count": 34,
      "outputs": []
    },
    {
      "cell_type": "markdown",
      "source": [
        "# Multiple Linear Regression\n"
      ],
      "metadata": {
        "id": "Kk34_C2HSokK"
      }
    },
    {
      "cell_type": "markdown",
      "source": [
        "***Import Dataset***\n",
        "\n",
        "---\n",
        "\n"
      ],
      "metadata": {
        "id": "-lUATeGCTk6h"
      }
    },
    {
      "cell_type": "code",
      "source": [
        "df = pd.read_csv('/content/drive/MyDrive/Machine Learning A-Z (Codes and Datasets)/Part 2 - Regression/Section 5 - Multiple Linear Regression/Python/50_Startups.csv')"
      ],
      "metadata": {
        "id": "Y5DBHF-CSr1g"
      },
      "execution_count": 35,
      "outputs": []
    },
    {
      "cell_type": "markdown",
      "source": [
        "***Splitting x and y***\n",
        "\n",
        "---\n",
        "\n"
      ],
      "metadata": {
        "id": "lb0ukjbOTpYy"
      }
    },
    {
      "cell_type": "code",
      "source": [
        "x = df.iloc[:,:-1].values\n",
        "y = df.iloc[:,-1].values"
      ],
      "metadata": {
        "id": "ROiakPrVY1K2"
      },
      "execution_count": 36,
      "outputs": []
    },
    {
      "cell_type": "code",
      "source": [
        "ct = ColumnTransformer(transformers = [('encoder',OneHotEncoder(),[3])],remainder= 'passthrough')"
      ],
      "metadata": {
        "id": "pmy_zjIXV0D9"
      },
      "execution_count": 37,
      "outputs": []
    },
    {
      "cell_type": "code",
      "source": [
        "x=np.array(ct.fit_transform(x))"
      ],
      "metadata": {
        "id": "8ZHcsF27WWgP"
      },
      "execution_count": 38,
      "outputs": []
    },
    {
      "cell_type": "code",
      "source": [
        "print(x)"
      ],
      "metadata": {
        "colab": {
          "base_uri": "https://localhost:8080/"
        },
        "id": "IH5kL5bzXxeZ",
        "outputId": "e8cade1f-ccb2-425d-e413-2eb91322f0a6"
      },
      "execution_count": 39,
      "outputs": [
        {
          "output_type": "stream",
          "name": "stdout",
          "text": [
            "[[0.0 0.0 1.0 165349.2 136897.8 471784.1]\n",
            " [1.0 0.0 0.0 162597.7 151377.59 443898.53]\n",
            " [0.0 1.0 0.0 153441.51 101145.55 407934.54]\n",
            " [0.0 0.0 1.0 144372.41 118671.85 383199.62]\n",
            " [0.0 1.0 0.0 142107.34 91391.77 366168.42]\n",
            " [0.0 0.0 1.0 131876.9 99814.71 362861.36]\n",
            " [1.0 0.0 0.0 134615.46 147198.87 127716.82]\n",
            " [0.0 1.0 0.0 130298.13 145530.06 323876.68]\n",
            " [0.0 0.0 1.0 120542.52 148718.95 311613.29]\n",
            " [1.0 0.0 0.0 123334.88 108679.17 304981.62]\n",
            " [0.0 1.0 0.0 101913.08 110594.11 229160.95]\n",
            " [1.0 0.0 0.0 100671.96 91790.61 249744.55]\n",
            " [0.0 1.0 0.0 93863.75 127320.38 249839.44]\n",
            " [1.0 0.0 0.0 91992.39 135495.07 252664.93]\n",
            " [0.0 1.0 0.0 119943.24 156547.42 256512.92]\n",
            " [0.0 0.0 1.0 114523.61 122616.84 261776.23]\n",
            " [1.0 0.0 0.0 78013.11 121597.55 264346.06]\n",
            " [0.0 0.0 1.0 94657.16 145077.58 282574.31]\n",
            " [0.0 1.0 0.0 91749.16 114175.79 294919.57]\n",
            " [0.0 0.0 1.0 86419.7 153514.11 0.0]\n",
            " [1.0 0.0 0.0 76253.86 113867.3 298664.47]\n",
            " [0.0 0.0 1.0 78389.47 153773.43 299737.29]\n",
            " [0.0 1.0 0.0 73994.56 122782.75 303319.26]\n",
            " [0.0 1.0 0.0 67532.53 105751.03 304768.73]\n",
            " [0.0 0.0 1.0 77044.01 99281.34 140574.81]\n",
            " [1.0 0.0 0.0 64664.71 139553.16 137962.62]\n",
            " [0.0 1.0 0.0 75328.87 144135.98 134050.07]\n",
            " [0.0 0.0 1.0 72107.6 127864.55 353183.81]\n",
            " [0.0 1.0 0.0 66051.52 182645.56 118148.2]\n",
            " [0.0 0.0 1.0 65605.48 153032.06 107138.38]\n",
            " [0.0 1.0 0.0 61994.48 115641.28 91131.24]\n",
            " [0.0 0.0 1.0 61136.38 152701.92 88218.23]\n",
            " [1.0 0.0 0.0 63408.86 129219.61 46085.25]\n",
            " [0.0 1.0 0.0 55493.95 103057.49 214634.81]\n",
            " [1.0 0.0 0.0 46426.07 157693.92 210797.67]\n",
            " [0.0 0.0 1.0 46014.02 85047.44 205517.64]\n",
            " [0.0 1.0 0.0 28663.76 127056.21 201126.82]\n",
            " [1.0 0.0 0.0 44069.95 51283.14 197029.42]\n",
            " [0.0 0.0 1.0 20229.59 65947.93 185265.1]\n",
            " [1.0 0.0 0.0 38558.51 82982.09 174999.3]\n",
            " [1.0 0.0 0.0 28754.33 118546.05 172795.67]\n",
            " [0.0 1.0 0.0 27892.92 84710.77 164470.71]\n",
            " [1.0 0.0 0.0 23640.93 96189.63 148001.11]\n",
            " [0.0 0.0 1.0 15505.73 127382.3 35534.17]\n",
            " [1.0 0.0 0.0 22177.74 154806.14 28334.72]\n",
            " [0.0 0.0 1.0 1000.23 124153.04 1903.93]\n",
            " [0.0 1.0 0.0 1315.46 115816.21 297114.46]\n",
            " [1.0 0.0 0.0 0.0 135426.92 0.0]\n",
            " [0.0 0.0 1.0 542.05 51743.15 0.0]\n",
            " [1.0 0.0 0.0 0.0 116983.8 45173.06]]\n"
          ]
        }
      ]
    },
    {
      "cell_type": "markdown",
      "source": [
        "***Split data***\n",
        "\n",
        "---\n",
        "\n"
      ],
      "metadata": {
        "id": "dxDnZmLbTy7r"
      }
    },
    {
      "cell_type": "code",
      "source": [
        "x_train,x_test,y_train,y_test = train_test_split(x,y,test_size= 0.2, random_state=1)"
      ],
      "metadata": {
        "id": "ZzMGf4xTY-Ns"
      },
      "execution_count": 40,
      "outputs": []
    },
    {
      "cell_type": "code",
      "source": [
        "print(x_train)"
      ],
      "metadata": {
        "colab": {
          "base_uri": "https://localhost:8080/"
        },
        "id": "QnjMcs1qZe4v",
        "outputId": "f0f5a4cb-40b2-4626-c6fe-7bcf3aef6530"
      },
      "execution_count": 41,
      "outputs": [
        {
          "output_type": "stream",
          "name": "stdout",
          "text": [
            "[[1.0 0.0 0.0 63408.86 129219.61 46085.25]\n",
            " [1.0 0.0 0.0 38558.51 82982.09 174999.3]\n",
            " [0.0 0.0 1.0 78389.47 153773.43 299737.29]\n",
            " [0.0 1.0 0.0 28663.76 127056.21 201126.82]\n",
            " [0.0 0.0 1.0 86419.7 153514.11 0.0]\n",
            " [1.0 0.0 0.0 23640.93 96189.63 148001.11]\n",
            " [1.0 0.0 0.0 0.0 116983.8 45173.06]\n",
            " [0.0 1.0 0.0 75328.87 144135.98 134050.07]\n",
            " [0.0 1.0 0.0 73994.56 122782.75 303319.26]\n",
            " [1.0 0.0 0.0 91992.39 135495.07 252664.93]\n",
            " [0.0 1.0 0.0 27892.92 84710.77 164470.71]\n",
            " [0.0 0.0 1.0 94657.16 145077.58 282574.31]\n",
            " [0.0 0.0 1.0 1000.23 124153.04 1903.93]\n",
            " [0.0 0.0 1.0 77044.01 99281.34 140574.81]\n",
            " [0.0 1.0 0.0 67532.53 105751.03 304768.73]\n",
            " [0.0 1.0 0.0 142107.34 91391.77 366168.42]\n",
            " [0.0 1.0 0.0 55493.95 103057.49 214634.81]\n",
            " [0.0 1.0 0.0 119943.24 156547.42 256512.92]\n",
            " [0.0 1.0 0.0 61994.48 115641.28 91131.24]\n",
            " [0.0 1.0 0.0 101913.08 110594.11 229160.95]\n",
            " [0.0 1.0 0.0 66051.52 182645.56 118148.2]\n",
            " [1.0 0.0 0.0 22177.74 154806.14 28334.72]\n",
            " [1.0 0.0 0.0 46426.07 157693.92 210797.67]\n",
            " [0.0 1.0 0.0 91749.16 114175.79 294919.57]\n",
            " [1.0 0.0 0.0 76253.86 113867.3 298664.47]\n",
            " [1.0 0.0 0.0 64664.71 139553.16 137962.62]\n",
            " [1.0 0.0 0.0 134615.46 147198.87 127716.82]\n",
            " [0.0 1.0 0.0 130298.13 145530.06 323876.68]\n",
            " [1.0 0.0 0.0 0.0 135426.92 0.0]\n",
            " [1.0 0.0 0.0 162597.7 151377.59 443898.53]\n",
            " [1.0 0.0 0.0 78013.11 121597.55 264346.06]\n",
            " [0.0 0.0 1.0 165349.2 136897.8 471784.1]\n",
            " [0.0 0.0 1.0 114523.61 122616.84 261776.23]\n",
            " [0.0 0.0 1.0 131876.9 99814.71 362861.36]\n",
            " [1.0 0.0 0.0 100671.96 91790.61 249744.55]\n",
            " [1.0 0.0 0.0 123334.88 108679.17 304981.62]\n",
            " [0.0 0.0 1.0 120542.52 148718.95 311613.29]\n",
            " [0.0 1.0 0.0 93863.75 127320.38 249839.44]\n",
            " [0.0 0.0 1.0 15505.73 127382.3 35534.17]\n",
            " [1.0 0.0 0.0 44069.95 51283.14 197029.42]]\n"
          ]
        }
      ]
    },
    {
      "cell_type": "code",
      "source": [
        "print(x_test)"
      ],
      "metadata": {
        "colab": {
          "base_uri": "https://localhost:8080/"
        },
        "id": "E7dlfso1ZjU5",
        "outputId": "442e1899-aeec-4943-9bdd-38ad1e516c3b"
      },
      "execution_count": 42,
      "outputs": [
        {
          "output_type": "stream",
          "name": "stdout",
          "text": [
            "[[0.0 0.0 1.0 72107.6 127864.55 353183.81]\n",
            " [0.0 0.0 1.0 46014.02 85047.44 205517.64]\n",
            " [1.0 0.0 0.0 28754.33 118546.05 172795.67]\n",
            " [0.0 0.0 1.0 20229.59 65947.93 185265.1]\n",
            " [0.0 1.0 0.0 153441.51 101145.55 407934.54]\n",
            " [0.0 0.0 1.0 144372.41 118671.85 383199.62]\n",
            " [0.0 0.0 1.0 542.05 51743.15 0.0]\n",
            " [0.0 0.0 1.0 65605.48 153032.06 107138.38]\n",
            " [0.0 1.0 0.0 1315.46 115816.21 297114.46]\n",
            " [0.0 0.0 1.0 61136.38 152701.92 88218.23]]\n"
          ]
        }
      ]
    },
    {
      "cell_type": "code",
      "source": [
        "print(y_train)"
      ],
      "metadata": {
        "colab": {
          "base_uri": "https://localhost:8080/"
        },
        "id": "gvWLHw_VZmSH",
        "outputId": "c6a31b90-5959-422c-ec88-afc7644ef80b"
      },
      "execution_count": 43,
      "outputs": [
        {
          "output_type": "stream",
          "name": "stdout",
          "text": [
            "[ 97427.84  81005.76 111313.02  90708.19 122776.86  71498.49  14681.4\n",
            " 105733.54 110352.25 134307.35  77798.83 125370.37  64926.08 108552.04\n",
            " 108733.99 166187.94  96778.92 132602.65  99937.59 146121.95 103282.38\n",
            "  65200.33  96712.8  124266.9  118474.03 107404.34 156122.51 155752.6\n",
            "  42559.73 191792.06 126992.93 192261.83 129917.04 156991.12 144259.4\n",
            " 149759.96 152211.77 141585.52  69758.98  89949.14]\n"
          ]
        }
      ]
    },
    {
      "cell_type": "code",
      "source": [
        "print(y_test)"
      ],
      "metadata": {
        "colab": {
          "base_uri": "https://localhost:8080/"
        },
        "id": "oifPzfreZpGA",
        "outputId": "9ad5c74e-98c1-4c8a-cea8-835d61923bd4"
      },
      "execution_count": 44,
      "outputs": [
        {
          "output_type": "stream",
          "name": "stdout",
          "text": [
            "[105008.31  96479.51  78239.91  81229.06 191050.39 182901.99  35673.41\n",
            " 101004.64  49490.75  97483.56]\n"
          ]
        }
      ]
    },
    {
      "cell_type": "markdown",
      "source": [
        "***Training linear regression***\n",
        "\n",
        "---\n",
        "\n"
      ],
      "metadata": {
        "id": "224tv-O5T5LQ"
      }
    },
    {
      "cell_type": "code",
      "source": [
        "regressor = LinearRegression()"
      ],
      "metadata": {
        "id": "cdeCUKDGZ9K9"
      },
      "execution_count": 45,
      "outputs": []
    },
    {
      "cell_type": "code",
      "source": [
        "regressor.fit(x_train,y_train)"
      ],
      "metadata": {
        "colab": {
          "base_uri": "https://localhost:8080/"
        },
        "id": "GHj7f__zaJl4",
        "outputId": "e8bc2031-810c-4706-d780-430b4a814ec3"
      },
      "execution_count": 46,
      "outputs": [
        {
          "output_type": "execute_result",
          "data": {
            "text/plain": [
              "LinearRegression()"
            ]
          },
          "metadata": {},
          "execution_count": 46
        }
      ]
    },
    {
      "cell_type": "markdown",
      "source": [
        "***Regression predicting***\n",
        "\n",
        "---\n",
        "\n"
      ],
      "metadata": {
        "id": "_B7OXGVyT9gW"
      }
    },
    {
      "cell_type": "code",
      "source": [
        "y_pred =regressor.predict(x_test)"
      ],
      "metadata": {
        "id": "VDwNOs1nanwJ"
      },
      "execution_count": 47,
      "outputs": []
    },
    {
      "cell_type": "markdown",
      "source": [
        "***Checking result***\n",
        "\n",
        "---\n",
        "\n"
      ],
      "metadata": {
        "id": "A709Q7BVUBaT"
      }
    },
    {
      "cell_type": "code",
      "source": [
        "np.set_printoptions(precision =2)\n",
        "print(np.concatenate((y_pred.reshape(len(y_pred),1),y_test.reshape(len(y_pred),1)),axis=1))"
      ],
      "metadata": {
        "colab": {
          "base_uri": "https://localhost:8080/"
        },
        "id": "rreAXYcycCum",
        "outputId": "a1f43462-2f06-4551-8cd0-aaa4883dd58c"
      },
      "execution_count": 48,
      "outputs": [
        {
          "output_type": "stream",
          "name": "stdout",
          "text": [
            "[[114664.42 105008.31]\n",
            " [ 90593.16  96479.51]\n",
            " [ 75692.84  78239.91]\n",
            " [ 70221.89  81229.06]\n",
            " [179790.26 191050.39]\n",
            " [171576.92 182901.99]\n",
            " [ 49753.59  35673.41]\n",
            " [102276.66 101004.64]\n",
            " [ 58649.38  49490.75]\n",
            " [ 98272.03  97483.56]]\n"
          ]
        }
      ]
    },
    {
      "cell_type": "code",
      "source": [
        "regressor.coef_"
      ],
      "metadata": {
        "colab": {
          "base_uri": "https://localhost:8080/"
        },
        "id": "-kLwk-2udHJI",
        "outputId": "c95e1f6e-84f9-4c1d-98c6-c38ff1234dad"
      },
      "execution_count": 49,
      "outputs": [
        {
          "output_type": "execute_result",
          "data": {
            "text/plain": [
              "array([-2.85e+02,  2.98e+02, -1.24e+01,  7.74e-01, -9.44e-03,  2.89e-02])"
            ]
          },
          "metadata": {},
          "execution_count": 49
        }
      ]
    },
    {
      "cell_type": "code",
      "source": [
        "regressor.intercept_"
      ],
      "metadata": {
        "colab": {
          "base_uri": "https://localhost:8080/"
        },
        "id": "euZmDkRodwsK",
        "outputId": "f7b9a7fa-8e2d-4882-97b5-4a6d7d4cf8bd"
      },
      "execution_count": 50,
      "outputs": [
        {
          "output_type": "execute_result",
          "data": {
            "text/plain": [
              "49834.88507322691"
            ]
          },
          "metadata": {},
          "execution_count": 50
        }
      ]
    },
    {
      "cell_type": "markdown",
      "source": [
        "Therefore, the equation of our multiple linear regression model is:\n",
        "\n",
        "Profit = -285×Dummy State 1 + 298×Dummy State 2 - 12.4×Dummy State 3 + 0.74×R&D Spend - 0.00944 ×Administration + 0.0289×Marketing Spend + 49834.88"
      ],
      "metadata": {
        "id": "-A7tOJuCjdQ6"
      }
    },
    {
      "cell_type": "markdown",
      "source": [
        "Making a single prediction (for example the profit of a startup with R&D Spend = 160000, Administration Spend = 130000, Marketing Spend = 300000 and State = 'California')"
      ],
      "metadata": {
        "id": "A29T3GuxixWh"
      }
    },
    {
      "cell_type": "code",
      "source": [
        "print(regressor.predict([[1, 0, 0, 160000, 130000, 300000]]))"
      ],
      "metadata": {
        "colab": {
          "base_uri": "https://localhost:8080/"
        },
        "id": "wSdT5Z7AfRXc",
        "outputId": "9b2d7458-c8e3-4831-c1c8-0357fdf06072"
      },
      "execution_count": 51,
      "outputs": [
        {
          "output_type": "stream",
          "name": "stdout",
          "text": [
            "[180892.25]\n"
          ]
        }
      ]
    },
    {
      "cell_type": "markdown",
      "source": [
        "# Polynomial Regression"
      ],
      "metadata": {
        "id": "Sf9834mdAyZf"
      }
    },
    {
      "cell_type": "markdown",
      "source": [
        "***Import Dataset***\n",
        "\n",
        "---\n",
        "\n"
      ],
      "metadata": {
        "id": "AxcTGUnwBwMC"
      }
    },
    {
      "cell_type": "code",
      "source": [
        "df = pd.read_csv('/content/drive/MyDrive/Machine Learning A-Z (Codes and Datasets)/Part 2 - Regression/Section 6 - Polynomial Regression/Python/Position_Salaries.csv')"
      ],
      "metadata": {
        "id": "SZH3-T1NB5de"
      },
      "execution_count": 52,
      "outputs": []
    },
    {
      "cell_type": "markdown",
      "source": [
        "***Splitting x and y***\n",
        "\n",
        "---\n",
        "\n"
      ],
      "metadata": {
        "id": "3Jah8w3OBwMC"
      }
    },
    {
      "cell_type": "code",
      "source": [
        "x = df.iloc[:,1:-1].values\n",
        "y = df.iloc[:,-1].values"
      ],
      "metadata": {
        "id": "HAqbYiobB58p"
      },
      "execution_count": 53,
      "outputs": []
    },
    {
      "cell_type": "code",
      "source": [
        "print(x)"
      ],
      "metadata": {
        "colab": {
          "base_uri": "https://localhost:8080/"
        },
        "id": "7DxCZcDUDuy7",
        "outputId": "5d52e90b-9d49-435d-ae35-2b8f30e74372"
      },
      "execution_count": 54,
      "outputs": [
        {
          "output_type": "stream",
          "name": "stdout",
          "text": [
            "[[ 1]\n",
            " [ 2]\n",
            " [ 3]\n",
            " [ 4]\n",
            " [ 5]\n",
            " [ 6]\n",
            " [ 7]\n",
            " [ 8]\n",
            " [ 9]\n",
            " [10]]\n"
          ]
        }
      ]
    },
    {
      "cell_type": "code",
      "source": [
        "print(y)"
      ],
      "metadata": {
        "colab": {
          "base_uri": "https://localhost:8080/"
        },
        "id": "2V2zSnM0D0Mg",
        "outputId": "73d000ab-b6b9-48a3-f79a-4cd8a1510d72"
      },
      "execution_count": 55,
      "outputs": [
        {
          "output_type": "stream",
          "name": "stdout",
          "text": [
            "[  45000   50000   60000   80000  110000  150000  200000  300000  500000\n",
            " 1000000]\n"
          ]
        }
      ]
    },
    {
      "cell_type": "markdown",
      "source": [
        "***Training linear regression for comparison***\n",
        "\n",
        "---\n",
        "\n"
      ],
      "metadata": {
        "id": "UgGtf0EPBwMC"
      }
    },
    {
      "cell_type": "code",
      "source": [
        "regressor = LinearRegression()"
      ],
      "metadata": {
        "id": "3y5Auo8gB67T"
      },
      "execution_count": 56,
      "outputs": []
    },
    {
      "cell_type": "code",
      "source": [
        "regressor.fit(x, y)"
      ],
      "metadata": {
        "colab": {
          "base_uri": "https://localhost:8080/"
        },
        "id": "8zWh1BASFTMo",
        "outputId": "3434cfb2-3fc4-4867-ca19-a09d80524c95"
      },
      "execution_count": 57,
      "outputs": [
        {
          "output_type": "execute_result",
          "data": {
            "text/plain": [
              "LinearRegression()"
            ]
          },
          "metadata": {},
          "execution_count": 57
        }
      ]
    },
    {
      "cell_type": "markdown",
      "source": [
        "***Training polynomial regression for comparison***\n",
        "\n",
        "---\n",
        "\n"
      ],
      "metadata": {
        "id": "MQ1qm7l6H-6S"
      }
    },
    {
      "cell_type": "code",
      "source": [
        "poly_reg = PolynomialFeatures(degree=4)\n",
        "x_poly = poly_reg.fit_transform(x)\n",
        "lin_reg = LinearRegression()\n",
        "lin_reg.fit(x_poly,y)"
      ],
      "metadata": {
        "colab": {
          "base_uri": "https://localhost:8080/"
        },
        "id": "xbcRhs27JZcs",
        "outputId": "eaed9764-2b51-4a7c-fbe5-f2af2efa7cf3"
      },
      "execution_count": 58,
      "outputs": [
        {
          "output_type": "execute_result",
          "data": {
            "text/plain": [
              "LinearRegression()"
            ]
          },
          "metadata": {},
          "execution_count": 58
        }
      ]
    },
    {
      "cell_type": "markdown",
      "source": [
        "***Visualizing Linear results***\n",
        "\n",
        "---\n",
        "\n"
      ],
      "metadata": {
        "id": "A-dw_KoeBwMC"
      }
    },
    {
      "cell_type": "code",
      "source": [
        "plt.scatter(x,y, color ='red')\n",
        "plt.plot(x,regressor.predict(x),color='blue')\n",
        "plt.title('Truth or Bluff (Linear Regression)')\n",
        "plt.xlabel('Position Level')\n",
        "plt.ylabel('Salary')\n",
        "plt.show()"
      ],
      "metadata": {
        "colab": {
          "base_uri": "https://localhost:8080/",
          "height": 295
        },
        "id": "H08vimu8B7n-",
        "outputId": "da9e90d7-9bea-4d7a-a59d-1b195b542880"
      },
      "execution_count": 59,
      "outputs": [
        {
          "output_type": "display_data",
          "data": {
            "text/plain": [
              "<Figure size 432x288 with 1 Axes>"
            ],
            "image/png": "[encoded data removed]"
          },
          "metadata": {
            "needs_background": "light"
          }
        }
      ]
    },
    {
      "cell_type": "markdown",
      "source": [
        "***Visualizing Polynomial results***\n",
        "\n",
        "---\n",
        "\n"
      ],
      "metadata": {
        "id": "Ryl2z9fLBwMD"
      }
    },
    {
      "cell_type": "code",
      "source": [
        "plt.scatter(x,y, color ='red')\n",
        "plt.plot(x,lin_reg.predict(x_poly),color='blue')\n",
        "plt.title('Truth or Bluff (Polynomial Regression)')\n",
        "plt.xlabel('Position Level')\n",
        "plt.ylabel('Salary')\n",
        "plt.show()"
      ],
      "metadata": {
        "colab": {
          "base_uri": "https://localhost:8080/",
          "height": 295
        },
        "id": "ltnvvT63B8Jx",
        "outputId": "648dc6f0-d09a-4f07-feda-d86dd4a21805"
      },
      "execution_count": 60,
      "outputs": [
        {
          "output_type": "display_data",
          "data": {
            "text/plain": [
              "<Figure size 432x288 with 1 Axes>"
            ],
            "image/png": "[encoded data removed]"
          },
          "metadata": {
            "needs_background": "light"
          }
        }
      ]
    },
    {
      "cell_type": "markdown",
      "source": [
        "***Predicting linear Results***\n",
        "\n",
        "---\n"
      ],
      "metadata": {
        "id": "BiAY3Uy3O-_J"
      }
    },
    {
      "cell_type": "code",
      "source": [
        "regressor.predict([[6.5]])"
      ],
      "metadata": {
        "colab": {
          "base_uri": "https://localhost:8080/"
        },
        "id": "dWnrwFsvO002",
        "outputId": "c7c54477-379a-4808-8c71-57661f85ac56"
      },
      "execution_count": 61,
      "outputs": [
        {
          "output_type": "execute_result",
          "data": {
            "text/plain": [
              "array([330378.79])"
            ]
          },
          "metadata": {},
          "execution_count": 61
        }
      ]
    },
    {
      "cell_type": "markdown",
      "source": [
        "***Prediciting Polynomial Results***\n",
        "\n",
        "---\n",
        "\n"
      ],
      "metadata": {
        "id": "Ok3utJOXPGOg"
      }
    },
    {
      "cell_type": "code",
      "source": [
        "lin_reg.predict(poly_reg.fit_transform([[6.5]]))"
      ],
      "metadata": {
        "colab": {
          "base_uri": "https://localhost:8080/"
        },
        "id": "kYYJrlGTPHFw",
        "outputId": "c142ac77-4948-4ba1-8bf0-17f26e81ad6f"
      },
      "execution_count": 62,
      "outputs": [
        {
          "output_type": "execute_result",
          "data": {
            "text/plain": [
              "array([158862.45])"
            ]
          },
          "metadata": {},
          "execution_count": 62
        }
      ]
    },
    {
      "cell_type": "markdown",
      "source": [
        "# Support Vector Regression (SVR)"
      ],
      "metadata": {
        "id": "0L70kHozAygt"
      }
    },
    {
      "cell_type": "markdown",
      "source": [
        "***Import Dataset***\n",
        "\n",
        "---\n",
        "\n"
      ],
      "metadata": {
        "id": "2t8CwvIQBxe_"
      }
    },
    {
      "cell_type": "code",
      "source": [
        "df = pd.read_csv('/content/drive/MyDrive/Machine Learning A-Z (Codes and Datasets)/Part 2 - Regression/Section 7 - Support Vector Regression (SVR)/Python/Position_Salaries.csv')"
      ],
      "metadata": {
        "id": "fZ9BYUYwOnsE"
      },
      "execution_count": 63,
      "outputs": []
    },
    {
      "cell_type": "markdown",
      "source": [
        "***Splitting x and y***\n",
        "\n",
        "---\n",
        "\n"
      ],
      "metadata": {
        "id": "WqPwXkziBxfA"
      }
    },
    {
      "cell_type": "code",
      "source": [
        "x = df.iloc[:,1:-1].values\n",
        "y = df.iloc[:,-1].values"
      ],
      "metadata": {
        "id": "vekfg57OOtjM"
      },
      "execution_count": 64,
      "outputs": []
    },
    {
      "cell_type": "code",
      "source": [
        "print(x)"
      ],
      "metadata": {
        "id": "_eBS4ZiDTy1-",
        "outputId": "556a232e-c25c-4835-e65d-33e969a712ca",
        "colab": {
          "base_uri": "https://localhost:8080/"
        }
      },
      "execution_count": 65,
      "outputs": [
        {
          "output_type": "stream",
          "name": "stdout",
          "text": [
            "[[ 1]\n",
            " [ 2]\n",
            " [ 3]\n",
            " [ 4]\n",
            " [ 5]\n",
            " [ 6]\n",
            " [ 7]\n",
            " [ 8]\n",
            " [ 9]\n",
            " [10]]\n"
          ]
        }
      ]
    },
    {
      "cell_type": "code",
      "source": [
        "print(y)#standard scaler accepts 2d array so we need to convert it into 2d array by reshape"
      ],
      "metadata": {
        "id": "WLiCHomdTyyj",
        "outputId": "495e32a7-cff5-49e7-900c-9ad6dd099ec1",
        "colab": {
          "base_uri": "https://localhost:8080/"
        }
      },
      "execution_count": 67,
      "outputs": [
        {
          "output_type": "stream",
          "name": "stdout",
          "text": [
            "[  45000   50000   60000   80000  110000  150000  200000  300000  500000\n",
            " 1000000]\n"
          ]
        }
      ]
    },
    {
      "cell_type": "code",
      "source": [
        "y= y.reshape(len(y),1)\n",
        "print(y)"
      ],
      "metadata": {
        "id": "_N5cOT-gUVCu",
        "outputId": "42fe4957-cf4a-4c64-eb54-df438863dfae",
        "colab": {
          "base_uri": "https://localhost:8080/"
        }
      },
      "execution_count": 68,
      "outputs": [
        {
          "output_type": "stream",
          "name": "stdout",
          "text": [
            "[[  45000]\n",
            " [  50000]\n",
            " [  60000]\n",
            " [  80000]\n",
            " [ 110000]\n",
            " [ 150000]\n",
            " [ 200000]\n",
            " [ 300000]\n",
            " [ 500000]\n",
            " [1000000]]\n"
          ]
        }
      ]
    },
    {
      "cell_type": "markdown",
      "source": [
        "***Feature Scaling***\n",
        "\n",
        "---\n",
        "\n"
      ],
      "metadata": {
        "id": "84kvcHfTBxfA"
      }
    },
    {
      "cell_type": "code",
      "source": [
        "sc_x = StandardScaler()#this calculates mean once its fitted to one column it \n",
        "#will calculate its mean and use it. as the mean of two diff column will be different so we will have to create two standard scaler vectors\n",
        "sc_y = StandardScaler()\n",
        "x= sc_x.fit_transform(x)\n",
        "y=sc_y.fit_transform(y)"
      ],
      "metadata": {
        "id": "hAzJeahOQgn0"
      },
      "execution_count": 69,
      "outputs": []
    },
    {
      "cell_type": "code",
      "source": [
        "print(x)"
      ],
      "metadata": {
        "id": "-SwpBNu4Vsp0",
        "outputId": "b5c6b18b-a37d-4e83-8a71-996a84260fac",
        "colab": {
          "base_uri": "https://localhost:8080/"
        }
      },
      "execution_count": 70,
      "outputs": [
        {
          "output_type": "stream",
          "name": "stdout",
          "text": [
            "[[-1.57]\n",
            " [-1.22]\n",
            " [-0.87]\n",
            " [-0.52]\n",
            " [-0.17]\n",
            " [ 0.17]\n",
            " [ 0.52]\n",
            " [ 0.87]\n",
            " [ 1.22]\n",
            " [ 1.57]]\n"
          ]
        }
      ]
    },
    {
      "cell_type": "code",
      "source": [
        "print(y)"
      ],
      "metadata": {
        "id": "kriVRNlQVwkf",
        "outputId": "11342eff-9a7e-4227-9c9d-15eb2471c756",
        "colab": {
          "base_uri": "https://localhost:8080/"
        }
      },
      "execution_count": 72,
      "outputs": [
        {
          "output_type": "stream",
          "name": "stdout",
          "text": [
            "[[-0.72]\n",
            " [-0.7 ]\n",
            " [-0.67]\n",
            " [-0.6 ]\n",
            " [-0.49]\n",
            " [-0.35]\n",
            " [-0.17]\n",
            " [ 0.18]\n",
            " [ 0.88]\n",
            " [ 2.64]]\n"
          ]
        }
      ]
    },
    {
      "cell_type": "markdown",
      "source": [
        "***Training linear regression***\n",
        "\n",
        "---\n",
        "\n"
      ],
      "metadata": {
        "id": "GWk49ZjmBxfB"
      }
    },
    {
      "cell_type": "code",
      "source": [],
      "metadata": {
        "id": "iXCnzhuuQhHr"
      },
      "execution_count": null,
      "outputs": []
    },
    {
      "cell_type": "markdown",
      "source": [
        "***Regression predicting***\n",
        "\n",
        "---\n",
        "\n"
      ],
      "metadata": {
        "id": "3q9V4MCfBxfB"
      }
    },
    {
      "cell_type": "code",
      "source": [],
      "metadata": {
        "id": "tqTz2VkuQh2r"
      },
      "execution_count": null,
      "outputs": []
    },
    {
      "cell_type": "markdown",
      "source": [
        "***Visualizing result***\n",
        "\n",
        "---\n",
        "\n"
      ],
      "metadata": {
        "id": "4yLvFJERBxfB"
      }
    },
    {
      "cell_type": "code",
      "source": [],
      "metadata": {
        "id": "9A-SpC3VQicw"
      },
      "execution_count": null,
      "outputs": []
    },
    {
      "cell_type": "markdown",
      "source": [
        "# Decision Tree"
      ],
      "metadata": {
        "id": "42YhrBRfBGtV"
      }
    },
    {
      "cell_type": "markdown",
      "source": [
        "***Import Dataset***\n",
        "\n",
        "---\n",
        "\n"
      ],
      "metadata": {
        "id": "t_6ev82BByp2"
      }
    },
    {
      "cell_type": "markdown",
      "source": [
        "***Splitting x and y***\n",
        "\n",
        "---\n",
        "\n"
      ],
      "metadata": {
        "id": "lMxI-FaCByp2"
      }
    },
    {
      "cell_type": "markdown",
      "source": [
        "***Split data***\n",
        "\n",
        "---\n",
        "\n"
      ],
      "metadata": {
        "id": "uidTERYHByp3"
      }
    },
    {
      "cell_type": "markdown",
      "source": [
        "***Training linear regression***\n",
        "\n",
        "---\n",
        "\n"
      ],
      "metadata": {
        "id": "h2nhGW0WByp3"
      }
    },
    {
      "cell_type": "markdown",
      "source": [
        "***Regression predicting***\n",
        "\n",
        "---\n",
        "\n"
      ],
      "metadata": {
        "id": "Csso6OBlByp3"
      }
    },
    {
      "cell_type": "markdown",
      "source": [
        "***Checking result***\n",
        "\n",
        "---\n",
        "\n"
      ],
      "metadata": {
        "id": "1RCz1JpEByp4"
      }
    },
    {
      "cell_type": "markdown",
      "source": [
        "# Random Forest Regression"
      ],
      "metadata": {
        "id": "F6E9e2HsBHZk"
      }
    },
    {
      "cell_type": "markdown",
      "source": [
        "***Import Dataset***\n",
        "\n",
        "---\n",
        "\n"
      ],
      "metadata": {
        "id": "hpC1AkvoBzQN"
      }
    },
    {
      "cell_type": "markdown",
      "source": [
        "***Splitting x and y***\n",
        "\n",
        "---\n",
        "\n"
      ],
      "metadata": {
        "id": "EAY5mQC-BzQO"
      }
    },
    {
      "cell_type": "markdown",
      "source": [
        "***Split data***\n",
        "\n",
        "---\n",
        "\n"
      ],
      "metadata": {
        "id": "6yzsm-afBzQO"
      }
    },
    {
      "cell_type": "markdown",
      "source": [
        "***Training linear regression***\n",
        "\n",
        "---\n",
        "\n"
      ],
      "metadata": {
        "id": "bTbgNQcaBzQO"
      }
    },
    {
      "cell_type": "markdown",
      "source": [
        "***Regression predicting***\n",
        "\n",
        "---\n",
        "\n"
      ],
      "metadata": {
        "id": "oZnRjxdwBzQP"
      }
    },
    {
      "cell_type": "markdown",
      "source": [
        "***Checking result***\n",
        "\n",
        "---\n",
        "\n"
      ],
      "metadata": {
        "id": "1MTjQIHOBzQP"
      }
    },
    {
      "cell_type": "markdown",
      "source": [
        "# Evaluating Regression Models"
      ],
      "metadata": {
        "id": "IPK9VYp3BHcl"
      }
    },
    {
      "cell_type": "markdown",
      "source": [
        "# Regression Model Selection"
      ],
      "metadata": {
        "id": "zB5bXIWnBHgC"
      }
    },
    {
      "cell_type": "code",
      "source": [],
      "metadata": {
        "id": "197oDLrc9CF_"
      },
      "execution_count": 62,
      "outputs": []
    }
  ]
}