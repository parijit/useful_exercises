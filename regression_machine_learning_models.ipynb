{
  "nbformat": 4,
  "nbformat_minor": 0,
  "metadata": {
    "colab": {
      "provenance": [],
      "toc_visible": true,
      "include_colab_link": true
    },
    "kernelspec": {
      "name": "python3",
      "display_name": "Python 3"
    },
    "language_info": {
      "name": "python"
    }
  },
  "cells": [
    {
      "cell_type": "markdown",
      "metadata": {
        "id": "view-in-github",
        "colab_type": "text"
      },
      "source": [
        "<a href=\"https://colab.research.google.com/github/parijit/useful_exercises/blob/main/regression_machine_learning_models.ipynb\" target=\"_parent\"><img src=\"https://colab.research.google.com/assets/colab-badge.svg\" alt=\"Open In Colab\"/></a>"
      ]
    },
    {
      "cell_type": "markdown",
      "source": [
        "# Data pre processing steps & feature scaling"
      ],
      "metadata": {
        "id": "ya9Kfdt4AYYX"
      }
    },
    {
      "cell_type": "markdown",
      "source": [
        "## Import library"
      ],
      "metadata": {
        "id": "OmKAtVWkiuRW"
      }
    },
    {
      "cell_type": "code",
      "source": [
        "import pandas as pd\n",
        "import numpy as np\n",
        "import tensorflow\n",
        "import xgboost\n",
        "import matplotlib.pyplot as plt\n",
        "from sklearn.impute import SimpleImputer #for imputation\n",
        "from sklearn.compose import ColumnTransformer #for encoding categoriccal variables\n",
        "from sklearn.preprocessing import OneHotEncoder\n",
        "from sklearn.preprocessing import LabelEncoder #for encoding dependent variable labels \n",
        "from sklearn.model_selection import train_test_split #for splitting randomly\n",
        "from sklearn.preprocessing import StandardScaler\n",
        "from sklearn.linear_model import LinearRegression # for simple linear regression\n",
        "from sklearn.preprocessing import PolynomialFeatures # for creating the powered features of polynomial Regression\n",
        "from sklearn.svm import SVR #FOR SVR regression we use\n",
        "from sklearn.tree import DecisionTreeRegressor #decision tree regression class\n",
        "from sklearn.ensemble import RandomForestRegressor #random forest regressor\n",
        "from sklearn.metrics import r2_score"
      ],
      "metadata": {
        "id": "6epchOofUwr5"
      },
      "execution_count": 97,
      "outputs": []
    },
    {
      "cell_type": "markdown",
      "source": [
        "## Import Dataset"
      ],
      "metadata": {
        "id": "EVojEw3ui_LV"
      }
    },
    {
      "cell_type": "code",
      "source": [
        "from google.colab import drive\n",
        "drive.mount('/content/drive')"
      ],
      "metadata": {
        "colab": {
          "base_uri": "https://localhost:8080/"
        },
        "id": "atxqtiEEjEs3",
        "outputId": "0c2f5c4a-a9f0-46a5-aaf9-5829107ecf4b"
      },
      "execution_count": null,
      "outputs": [
        {
          "output_type": "stream",
          "name": "stdout",
          "text": [
            "Mounted at /content/drive\n"
          ]
        }
      ]
    },
    {
      "cell_type": "code",
      "source": [
        "df =pd.read_csv('/content/drive/MyDrive/Machine Learning A-Z (Codes and Datasets)/Part 1 - Data Preprocessing/Section 2 -------------------- Part 1 - Data Preprocessing --------------------/Python/Data.csv')"
      ],
      "metadata": {
        "id": "09Xjd056jFG_"
      },
      "execution_count": null,
      "outputs": []
    },
    {
      "cell_type": "code",
      "source": [
        "x=df.iloc[:,:-1].values\n",
        "y=df.iloc[:,-1].values"
      ],
      "metadata": {
        "id": "rJmVjw-1jZMu"
      },
      "execution_count": null,
      "outputs": []
    },
    {
      "cell_type": "code",
      "source": [
        "print(x)\n",
        "print(y)"
      ],
      "metadata": {
        "colab": {
          "base_uri": "https://localhost:8080/"
        },
        "id": "-Id0SH3oj4ed",
        "outputId": "174f02c6-04f2-455e-dfe0-e7c4f60a2d36"
      },
      "execution_count": null,
      "outputs": [
        {
          "output_type": "stream",
          "name": "stdout",
          "text": [
            "[['France' 44.0 72000.0]\n",
            " ['Spain' 27.0 48000.0]\n",
            " ['Germany' 30.0 54000.0]\n",
            " ['Spain' 38.0 61000.0]\n",
            " ['Germany' 40.0 nan]\n",
            " ['France' 35.0 58000.0]\n",
            " ['Spain' nan 52000.0]\n",
            " ['France' 48.0 79000.0]\n",
            " ['Germany' 50.0 83000.0]\n",
            " ['France' 37.0 67000.0]]\n",
            "['No' 'Yes' 'No' 'No' 'Yes' 'Yes' 'No' 'Yes' 'No' 'Yes']\n"
          ]
        }
      ]
    },
    {
      "cell_type": "markdown",
      "source": [
        "## Missing Data treatment\n"
      ],
      "metadata": {
        "id": "5ENaB0U-nKff"
      }
    },
    {
      "cell_type": "code",
      "source": [
        "imputer = SimpleImputer(missing_values=np.nan, strategy = 'mean' )\n",
        "imputer.fit(x[:,1:3])\n",
        "x[:,1:3] =imputer.transform(x[:,1:3])"
      ],
      "metadata": {
        "id": "TuVN7xFelI2N"
      },
      "execution_count": null,
      "outputs": []
    },
    {
      "cell_type": "code",
      "source": [
        "print(x)"
      ],
      "metadata": {
        "colab": {
          "base_uri": "https://localhost:8080/"
        },
        "id": "v1rMvpbOpzef",
        "outputId": "68aefe97-7c26-44b8-e6c5-4828f22b9158"
      },
      "execution_count": null,
      "outputs": [
        {
          "output_type": "stream",
          "name": "stdout",
          "text": [
            "[['France' 44.0 72000.0]\n",
            " ['Spain' 27.0 48000.0]\n",
            " ['Germany' 30.0 54000.0]\n",
            " ['Spain' 38.0 61000.0]\n",
            " ['Germany' 40.0 63777.77777777778]\n",
            " ['France' 35.0 58000.0]\n",
            " ['Spain' 38.77777777777778 52000.0]\n",
            " ['France' 48.0 79000.0]\n",
            " ['Germany' 50.0 83000.0]\n",
            " ['France' 37.0 67000.0]]\n"
          ]
        }
      ]
    },
    {
      "cell_type": "markdown",
      "source": [
        "## Encoding Categorical Data"
      ],
      "metadata": {
        "id": "1qdGZxVbp7oe"
      }
    },
    {
      "cell_type": "markdown",
      "source": [
        "***Encoding independent variable***\n",
        "\n",
        "---\n",
        "\n"
      ],
      "metadata": {
        "id": "_0GjiJEpqe39"
      }
    },
    {
      "cell_type": "code",
      "source": [
        "ct = ColumnTransformer(transformers=[('encoder',OneHotEncoder(),[0])], remainder='passthrough') \n",
        "#pass through keeps other columns intact and doesnt drops them if we dont encode"
      ],
      "metadata": {
        "id": "15ccaA1Yp1SH"
      },
      "execution_count": null,
      "outputs": []
    },
    {
      "cell_type": "code",
      "source": [
        "x = np.array(ct.fit_transform(x)) # we have force fit into array since x is already an array "
      ],
      "metadata": {
        "id": "IbIlvd6wsgUs"
      },
      "execution_count": null,
      "outputs": []
    },
    {
      "cell_type": "code",
      "source": [
        "print(x)"
      ],
      "metadata": {
        "colab": {
          "base_uri": "https://localhost:8080/"
        },
        "id": "WrdWLeZ-uIA3",
        "outputId": "c8e05948-3fe3-4571-af2c-42cdc414f773"
      },
      "execution_count": null,
      "outputs": [
        {
          "output_type": "stream",
          "name": "stdout",
          "text": [
            "[[1.0 0.0 0.0 44.0 72000.0]\n",
            " [0.0 0.0 1.0 27.0 48000.0]\n",
            " [0.0 1.0 0.0 30.0 54000.0]\n",
            " [0.0 0.0 1.0 38.0 61000.0]\n",
            " [0.0 1.0 0.0 40.0 63777.77777777778]\n",
            " [1.0 0.0 0.0 35.0 58000.0]\n",
            " [0.0 0.0 1.0 38.77777777777778 52000.0]\n",
            " [1.0 0.0 0.0 48.0 79000.0]\n",
            " [0.0 1.0 0.0 50.0 83000.0]\n",
            " [1.0 0.0 0.0 37.0 67000.0]]\n"
          ]
        }
      ]
    },
    {
      "cell_type": "markdown",
      "source": [
        "***Encoding dependent variable***\n",
        "\n",
        "---\n",
        "\n",
        "\n",
        "\n",
        "\n",
        "\n"
      ],
      "metadata": {
        "id": "HmU6IsvEqndP"
      }
    },
    {
      "cell_type": "code",
      "source": [
        "le =LabelEncoder()\n",
        "y = le.fit_transform(y)"
      ],
      "metadata": {
        "id": "28S-QxSxqomv"
      },
      "execution_count": null,
      "outputs": []
    },
    {
      "cell_type": "code",
      "source": [
        "print(y)"
      ],
      "metadata": {
        "colab": {
          "base_uri": "https://localhost:8080/"
        },
        "id": "KIScZZcRvLv1",
        "outputId": "34978225-a8e2-49dc-b118-6da58b563a8b"
      },
      "execution_count": null,
      "outputs": [
        {
          "output_type": "stream",
          "name": "stdout",
          "text": [
            "[0 1 0 0 1 1 0 1 0 1]\n"
          ]
        }
      ]
    },
    {
      "cell_type": "markdown",
      "source": [
        "***Splitting Dataset***\n",
        "\n",
        "---\n",
        "\n"
      ],
      "metadata": {
        "id": "mTdKfFwsqvTE"
      }
    },
    {
      "cell_type": "code",
      "source": [
        "xtrain,xtest,ytrain,ysplit =train_test_split(x,y,test_size=0.2,random_state=1)\n",
        "# fix the seed so that we get values from same seed in \n",
        "#the variables so that we get the corresponding values; takes all variable randomly "
      ],
      "metadata": {
        "id": "MmXB44E5qrVj"
      },
      "execution_count": null,
      "outputs": []
    },
    {
      "cell_type": "code",
      "source": [
        "print(xtrain)"
      ],
      "metadata": {
        "colab": {
          "base_uri": "https://localhost:8080/"
        },
        "id": "gqyAyKdSzNvA",
        "outputId": "4adfabbd-162f-4191-86dd-6e808d17ac47"
      },
      "execution_count": null,
      "outputs": [
        {
          "output_type": "stream",
          "name": "stdout",
          "text": [
            "[[0.0 0.0 1.0 38.77777777777778 52000.0]\n",
            " [0.0 1.0 0.0 40.0 63777.77777777778]\n",
            " [1.0 0.0 0.0 44.0 72000.0]\n",
            " [0.0 0.0 1.0 38.0 61000.0]\n",
            " [0.0 0.0 1.0 27.0 48000.0]\n",
            " [1.0 0.0 0.0 48.0 79000.0]\n",
            " [0.0 1.0 0.0 50.0 83000.0]\n",
            " [1.0 0.0 0.0 35.0 58000.0]]\n"
          ]
        }
      ]
    },
    {
      "cell_type": "code",
      "source": [
        "print(xtest)"
      ],
      "metadata": {
        "colab": {
          "base_uri": "https://localhost:8080/"
        },
        "id": "_snhwiY2zNpb",
        "outputId": "360739a3-4f76-4763-eca2-19bcbcf41425"
      },
      "execution_count": null,
      "outputs": [
        {
          "output_type": "stream",
          "name": "stdout",
          "text": [
            "[[0.0 1.0 0.0 30.0 54000.0]\n",
            " [1.0 0.0 0.0 37.0 67000.0]]\n"
          ]
        }
      ]
    },
    {
      "cell_type": "code",
      "source": [
        "print(ytrain)"
      ],
      "metadata": {
        "colab": {
          "base_uri": "https://localhost:8080/"
        },
        "id": "9SmSmP9izNhm",
        "outputId": "62c25693-d257-4623-fbcd-1ba1a503bc7d"
      },
      "execution_count": null,
      "outputs": [
        {
          "output_type": "stream",
          "name": "stdout",
          "text": [
            "[0 1 0 0 1 1 0 1]\n"
          ]
        }
      ]
    },
    {
      "cell_type": "code",
      "source": [
        "print(ysplit)"
      ],
      "metadata": {
        "colab": {
          "base_uri": "https://localhost:8080/"
        },
        "id": "ksMrrZz8zNQV",
        "outputId": "948d34f5-34a9-49cd-fd4c-3a0046886d40"
      },
      "execution_count": null,
      "outputs": [
        {
          "output_type": "stream",
          "name": "stdout",
          "text": [
            "[0 1]\n"
          ]
        }
      ]
    },
    {
      "cell_type": "markdown",
      "source": [
        "***Feature Scaling***\n",
        "\n",
        "---\n",
        "\n"
      ],
      "metadata": {
        "id": "IM3k9kyEqptQ"
      }
    },
    {
      "cell_type": "code",
      "source": [
        "sc= StandardScaler()\n",
        "xtrain[:,1:3]=sc.fit_transform(xtrain[:,1:3])\n",
        "xtest[:,1:3]=sc.transform(xtest[:,1:3])"
      ],
      "metadata": {
        "id": "UsBi5tSWqwvK"
      },
      "execution_count": null,
      "outputs": []
    },
    {
      "cell_type": "code",
      "source": [
        "print(xtrain)"
      ],
      "metadata": {
        "colab": {
          "base_uri": "https://localhost:8080/"
        },
        "id": "LFLbc4Gd121W",
        "outputId": "e101874a-5251-490a-e096-1d329499bb5b"
      },
      "execution_count": null,
      "outputs": [
        {
          "output_type": "stream",
          "name": "stdout",
          "text": [
            "[[0.0 -0.5773502691896258 1.2909944487358056 38.77777777777778 52000.0]\n",
            " [0.0 1.7320508075688774 -0.7745966692414834 40.0 63777.77777777778]\n",
            " [1.0 -0.5773502691896258 -0.7745966692414834 44.0 72000.0]\n",
            " [0.0 -0.5773502691896258 1.2909944487358056 38.0 61000.0]\n",
            " [0.0 -0.5773502691896258 1.2909944487358056 27.0 48000.0]\n",
            " [1.0 -0.5773502691896258 -0.7745966692414834 48.0 79000.0]\n",
            " [0.0 1.7320508075688774 -0.7745966692414834 50.0 83000.0]\n",
            " [1.0 -0.5773502691896258 -0.7745966692414834 35.0 58000.0]]\n"
          ]
        }
      ]
    },
    {
      "cell_type": "code",
      "source": [
        "print(xtest)"
      ],
      "metadata": {
        "colab": {
          "base_uri": "https://localhost:8080/"
        },
        "id": "r5LhPZeX4WLU",
        "outputId": "806e3ca6-72de-48af-bd8e-43166e01fa4a"
      },
      "execution_count": null,
      "outputs": [
        {
          "output_type": "stream",
          "name": "stdout",
          "text": [
            "[[0.0 1.7320508075688774 -0.7745966692414834 30.0 54000.0]\n",
            " [1.0 -0.5773502691896258 -0.7745966692414834 37.0 67000.0]]\n"
          ]
        }
      ]
    },
    {
      "cell_type": "markdown",
      "source": [
        "\n",
        "\n",
        "# Regression models"
      ],
      "metadata": {
        "id": "qyfLxodn_6fl"
      }
    },
    {
      "cell_type": "markdown",
      "source": [
        "## Simple Linear Regression\n"
      ],
      "metadata": {
        "id": "EhzhsT39zIrb"
      }
    },
    {
      "cell_type": "markdown",
      "source": [
        "***Import Dataset***\n",
        "\n",
        "---\n",
        "\n"
      ],
      "metadata": {
        "id": "2pvApWiU1SBp"
      }
    },
    {
      "cell_type": "code",
      "source": [
        "df =pd.read_csv('/content/drive/MyDrive/Machine Learning A-Z (Codes and Datasets)/Part 2 - Regression/Section 4 - Simple Linear Regression/Python/Salary_Data.csv')\n"
      ],
      "metadata": {
        "id": "L3_GrUkO4Xmj"
      },
      "execution_count": null,
      "outputs": []
    },
    {
      "cell_type": "markdown",
      "source": [
        "***Splitting x and y***\n",
        "\n",
        "---\n",
        "\n"
      ],
      "metadata": {
        "id": "n0DFeFQY1o21"
      }
    },
    {
      "cell_type": "code",
      "source": [
        "x = df.iloc[:,0:1].values\n",
        "y = df.iloc[:,-1].values"
      ],
      "metadata": {
        "id": "0wLi22401g1F"
      },
      "execution_count": null,
      "outputs": []
    },
    {
      "cell_type": "code",
      "source": [
        "print(x)\n",
        "print(y)"
      ],
      "metadata": {
        "colab": {
          "base_uri": "https://localhost:8080/"
        },
        "id": "htqKNIU512La",
        "outputId": "646d2410-1184-4de9-c96b-e8615745e1ae"
      },
      "execution_count": null,
      "outputs": [
        {
          "output_type": "stream",
          "name": "stdout",
          "text": [
            "[[ 1.1]\n",
            " [ 1.3]\n",
            " [ 1.5]\n",
            " [ 2. ]\n",
            " [ 2.2]\n",
            " [ 2.9]\n",
            " [ 3. ]\n",
            " [ 3.2]\n",
            " [ 3.2]\n",
            " [ 3.7]\n",
            " [ 3.9]\n",
            " [ 4. ]\n",
            " [ 4. ]\n",
            " [ 4.1]\n",
            " [ 4.5]\n",
            " [ 4.9]\n",
            " [ 5.1]\n",
            " [ 5.3]\n",
            " [ 5.9]\n",
            " [ 6. ]\n",
            " [ 6.8]\n",
            " [ 7.1]\n",
            " [ 7.9]\n",
            " [ 8.2]\n",
            " [ 8.7]\n",
            " [ 9. ]\n",
            " [ 9.5]\n",
            " [ 9.6]\n",
            " [10.3]\n",
            " [10.5]]\n",
            "[ 39343.  46205.  37731.  43525.  39891.  56642.  60150.  54445.  64445.\n",
            "  57189.  63218.  55794.  56957.  57081.  61111.  67938.  66029.  83088.\n",
            "  81363.  93940.  91738.  98273. 101302. 113812. 109431. 105582. 116969.\n",
            " 112635. 122391. 121872.]\n"
          ]
        }
      ]
    },
    {
      "cell_type": "markdown",
      "source": [
        "***Split data***\n",
        "\n",
        "---\n",
        "\n"
      ],
      "metadata": {
        "id": "WiDQLyzZ3YUY"
      }
    },
    {
      "cell_type": "code",
      "source": [
        "x_train,x_test,y_train,y_test = train_test_split(x,y,test_size = 0.2, random_state = 1)"
      ],
      "metadata": {
        "id": "SxAFYV7g2n36"
      },
      "execution_count": null,
      "outputs": []
    },
    {
      "cell_type": "code",
      "source": [
        "print(x_train)"
      ],
      "metadata": {
        "colab": {
          "base_uri": "https://localhost:8080/"
        },
        "id": "WIf5gJp42yQa",
        "outputId": "c552a516-2103-44c0-d2e9-b6b629ecba41"
      },
      "execution_count": null,
      "outputs": [
        {
          "output_type": "stream",
          "name": "stdout",
          "text": [
            "[[ 9.5]\n",
            " [ 2. ]\n",
            " [ 8.7]\n",
            " [ 7.9]\n",
            " [ 8.2]\n",
            " [ 2.2]\n",
            " [ 1.5]\n",
            " [ 9. ]\n",
            " [ 3. ]\n",
            " [ 5.9]\n",
            " [ 4.1]\n",
            " [ 3.2]\n",
            " [ 9.6]\n",
            " [ 1.3]\n",
            " [ 5.1]\n",
            " [ 1.1]\n",
            " [ 4.9]\n",
            " [10.5]\n",
            " [10.3]\n",
            " [ 3.7]\n",
            " [ 3.2]\n",
            " [ 4. ]\n",
            " [ 4. ]\n",
            " [ 2.9]]\n"
          ]
        }
      ]
    },
    {
      "cell_type": "code",
      "source": [
        "print(x_test)"
      ],
      "metadata": {
        "colab": {
          "base_uri": "https://localhost:8080/"
        },
        "id": "YL64ajoC3_Le",
        "outputId": "c9ca92cb-973e-4558-e454-3a6cc068c8cb"
      },
      "execution_count": null,
      "outputs": [
        {
          "output_type": "stream",
          "name": "stdout",
          "text": [
            "[[5.3]\n",
            " [7.1]\n",
            " [3.9]\n",
            " [6. ]\n",
            " [4.5]\n",
            " [6.8]]\n"
          ]
        }
      ]
    },
    {
      "cell_type": "code",
      "source": [
        "print(y_train)"
      ],
      "metadata": {
        "colab": {
          "base_uri": "https://localhost:8080/"
        },
        "id": "bf3ZSiic4BNH",
        "outputId": "5425c630-afef-4183-e174-d1cbd5266d1c"
      },
      "execution_count": null,
      "outputs": [
        {
          "output_type": "stream",
          "name": "stdout",
          "text": [
            "[116969.  43525. 109431. 101302. 113812.  39891.  37731. 105582.  60150.\n",
            "  81363.  57081.  54445. 112635.  46205.  66029.  39343.  67938. 121872.\n",
            " 122391.  57189.  64445.  56957.  55794.  56642.]\n"
          ]
        }
      ]
    },
    {
      "cell_type": "code",
      "source": [
        "print(y_test)"
      ],
      "metadata": {
        "colab": {
          "base_uri": "https://localhost:8080/"
        },
        "id": "MDuvVDoD4DYf",
        "outputId": "887aabf3-954e-4f44-cd81-5500496b4a34"
      },
      "execution_count": null,
      "outputs": [
        {
          "output_type": "stream",
          "name": "stdout",
          "text": [
            "[83088. 98273. 63218. 93940. 61111. 91738.]\n"
          ]
        }
      ]
    },
    {
      "cell_type": "markdown",
      "source": [
        "***Training linear regression***\n",
        "\n",
        "---\n",
        "\n"
      ],
      "metadata": {
        "id": "BXVFZghf4S_k"
      }
    },
    {
      "cell_type": "code",
      "source": [
        "regressor = LinearRegression()\n",
        "regressor.fit(x_train,y_train)"
      ],
      "metadata": {
        "colab": {
          "base_uri": "https://localhost:8080/"
        },
        "id": "Gdr_pv-14Euq",
        "outputId": "6efffc64-2fe9-45ae-e09c-cc5ee68e848f"
      },
      "execution_count": null,
      "outputs": [
        {
          "output_type": "execute_result",
          "data": {
            "text/plain": [
              "LinearRegression()"
            ]
          },
          "metadata": {},
          "execution_count": 29
        }
      ]
    },
    {
      "cell_type": "markdown",
      "source": [
        "***Regression predicting***\n",
        "\n",
        "---\n",
        "\n"
      ],
      "metadata": {
        "id": "5CYin3rq52BU"
      }
    },
    {
      "cell_type": "code",
      "source": [
        "y_pred = regressor.predict(x_test) #predicted values"
      ],
      "metadata": {
        "id": "QQ7UL5KA5PR9"
      },
      "execution_count": null,
      "outputs": []
    },
    {
      "cell_type": "markdown",
      "source": [
        "***Visualising training set result***\n",
        "\n",
        "---\n",
        "\n"
      ],
      "metadata": {
        "id": "uCG-zAbbOIqS"
      }
    },
    {
      "cell_type": "code",
      "source": [
        "plt.scatter(x_train,y_train, color='red')\n",
        "plt.plot(x_train,regressor.predict(x_train),color ='blue')\n",
        "plt.title('Salary vs Experience (Training set)')\n",
        "plt.xlabel('Years of Experience')\n",
        "plt.ylabel('Salary')\n",
        "plt.show()"
      ],
      "metadata": {
        "colab": {
          "base_uri": "https://localhost:8080/",
          "height": 295
        },
        "id": "Vat93f7m6STX",
        "outputId": "51ab2016-4617-4e0b-fc1d-70e3374f07b8"
      },
      "execution_count": null,
      "outputs": [
        {
          "output_type": "display_data",
          "data": {
            "text/plain": [
              "<Figure size 432x288 with 1 Axes>"
            ],
            "image/png": "[encoded data removed]"
          },
          "metadata": {
            "needs_background": "light"
          }
        }
      ]
    },
    {
      "cell_type": "markdown",
      "source": [
        "***Visualizing test set result***\n",
        "\n",
        "---"
      ],
      "metadata": {
        "id": "bLsZ6PrbOQob"
      }
    },
    {
      "cell_type": "code",
      "source": [
        "plt.scatter(x_test,y_test, color='red')\n",
        "plt.plot(x_train,regressor.predict(x_train),color ='blue')\n",
        "plt.title('Salary vs Experience (Test set)')\n",
        "plt.xlabel('Years of Experience')\n",
        "plt.ylabel('Salary')\n",
        "plt.show()"
      ],
      "metadata": {
        "colab": {
          "base_uri": "https://localhost:8080/",
          "height": 295
        },
        "id": "ykJN2guNOXzy",
        "outputId": "beeb344e-2396-4200-d6a7-42d8597916ae"
      },
      "execution_count": null,
      "outputs": [
        {
          "output_type": "display_data",
          "data": {
            "text/plain": [
              "<Figure size 432x288 with 1 Axes>"
            ],
            "image/png": "[encoded data removed]"
          },
          "metadata": {
            "needs_background": "light"
          }
        }
      ]
    },
    {
      "cell_type": "code",
      "source": [
        "print(regressor.predict([[12]]))"
      ],
      "metadata": {
        "colab": {
          "base_uri": "https://localhost:8080/"
        },
        "id": "lmOE5dX4PQgR",
        "outputId": "672cd0bb-b7ee-4191-b3f1-2ce02bb43e98"
      },
      "execution_count": null,
      "outputs": [
        {
          "output_type": "stream",
          "name": "stdout",
          "text": [
            "[137605.23485427]\n"
          ]
        }
      ]
    },
    {
      "cell_type": "markdown",
      "source": [
        "\n",
        "**Important note:** The value of the feature (12 years) was input in a double pair of square brackets. That's because the \"predict\" method always expects a 2D array as the format of its inputs. And putting 12 into a double pair of square brackets makes the input exactly a 2D array. So:\n",
        "\n",
        "$12 \\rightarrow \\textrm{scalar}$\n",
        "\n",
        "$[12] \\rightarrow \\textrm{1D array}$\n",
        "\n",
        "$[[12]] \\rightarrow \\textrm{2D array}$"
      ],
      "metadata": {
        "id": "mM8YjkmlQvX0"
      }
    },
    {
      "cell_type": "code",
      "source": [
        "print(regressor.coef_)\n",
        "print(regressor.intercept_)"
      ],
      "metadata": {
        "colab": {
          "base_uri": "https://localhost:8080/"
        },
        "id": "LEOqtY2NQm6h",
        "outputId": "135d6ebd-9a38-46d1-ef25-bf25b6ae8025"
      },
      "execution_count": null,
      "outputs": [
        {
          "output_type": "stream",
          "name": "stdout",
          "text": [
            "[9332.94473799]\n",
            "25609.89799835482\n"
          ]
        }
      ]
    },
    {
      "cell_type": "markdown",
      "source": [
        "Therefore, the equation :\n",
        "\n",
        "$$\\textrm{Salary} = 9332.94 \\times \\textrm{YearsExperience} + 25609.89$$\n",
        "\n",
        "**Important Note:** To get these coefficients call \"coef_\" and \"intercept_\" attributes from regressor.\n"
      ],
      "metadata": {
        "id": "6dGi18xmQ0Pl"
      }
    },
    {
      "cell_type": "code",
      "source": [],
      "metadata": {
        "id": "XTBiXt0aQyrB"
      },
      "execution_count": null,
      "outputs": []
    },
    {
      "cell_type": "markdown",
      "source": [
        "## Multiple Linear Regression\n"
      ],
      "metadata": {
        "id": "Kk34_C2HSokK"
      }
    },
    {
      "cell_type": "markdown",
      "source": [
        "***Import Dataset***\n",
        "\n",
        "---\n",
        "\n"
      ],
      "metadata": {
        "id": "-lUATeGCTk6h"
      }
    },
    {
      "cell_type": "code",
      "source": [
        "df = pd.read_csv('/content/drive/MyDrive/Machine Learning A-Z (Codes and Datasets)/Part 2 - Regression/Section 5 - Multiple Linear Regression/Python/50_Startups.csv')"
      ],
      "metadata": {
        "id": "Y5DBHF-CSr1g"
      },
      "execution_count": null,
      "outputs": []
    },
    {
      "cell_type": "markdown",
      "source": [
        "***Splitting x and y***\n",
        "\n",
        "---\n",
        "\n"
      ],
      "metadata": {
        "id": "lb0ukjbOTpYy"
      }
    },
    {
      "cell_type": "code",
      "source": [
        "x = df.iloc[:,:-1].values\n",
        "y = df.iloc[:,-1].values"
      ],
      "metadata": {
        "id": "ROiakPrVY1K2"
      },
      "execution_count": null,
      "outputs": []
    },
    {
      "cell_type": "code",
      "source": [
        "ct = ColumnTransformer(transformers = [('encoder',OneHotEncoder(),[3])],remainder= 'passthrough')"
      ],
      "metadata": {
        "id": "pmy_zjIXV0D9"
      },
      "execution_count": null,
      "outputs": []
    },
    {
      "cell_type": "code",
      "source": [
        "x=np.array(ct.fit_transform(x))"
      ],
      "metadata": {
        "id": "8ZHcsF27WWgP"
      },
      "execution_count": null,
      "outputs": []
    },
    {
      "cell_type": "code",
      "source": [
        "print(x)"
      ],
      "metadata": {
        "colab": {
          "base_uri": "https://localhost:8080/"
        },
        "id": "IH5kL5bzXxeZ",
        "outputId": "25df9718-8dcf-489d-bed5-fdf834b7e920"
      },
      "execution_count": null,
      "outputs": [
        {
          "output_type": "stream",
          "name": "stdout",
          "text": [
            "[[0.0 0.0 1.0 165349.2 136897.8 471784.1]\n",
            " [1.0 0.0 0.0 162597.7 151377.59 443898.53]\n",
            " [0.0 1.0 0.0 153441.51 101145.55 407934.54]\n",
            " [0.0 0.0 1.0 144372.41 118671.85 383199.62]\n",
            " [0.0 1.0 0.0 142107.34 91391.77 366168.42]\n",
            " [0.0 0.0 1.0 131876.9 99814.71 362861.36]\n",
            " [1.0 0.0 0.0 134615.46 147198.87 127716.82]\n",
            " [0.0 1.0 0.0 130298.13 145530.06 323876.68]\n",
            " [0.0 0.0 1.0 120542.52 148718.95 311613.29]\n",
            " [1.0 0.0 0.0 123334.88 108679.17 304981.62]\n",
            " [0.0 1.0 0.0 101913.08 110594.11 229160.95]\n",
            " [1.0 0.0 0.0 100671.96 91790.61 249744.55]\n",
            " [0.0 1.0 0.0 93863.75 127320.38 249839.44]\n",
            " [1.0 0.0 0.0 91992.39 135495.07 252664.93]\n",
            " [0.0 1.0 0.0 119943.24 156547.42 256512.92]\n",
            " [0.0 0.0 1.0 114523.61 122616.84 261776.23]\n",
            " [1.0 0.0 0.0 78013.11 121597.55 264346.06]\n",
            " [0.0 0.0 1.0 94657.16 145077.58 282574.31]\n",
            " [0.0 1.0 0.0 91749.16 114175.79 294919.57]\n",
            " [0.0 0.0 1.0 86419.7 153514.11 0.0]\n",
            " [1.0 0.0 0.0 76253.86 113867.3 298664.47]\n",
            " [0.0 0.0 1.0 78389.47 153773.43 299737.29]\n",
            " [0.0 1.0 0.0 73994.56 122782.75 303319.26]\n",
            " [0.0 1.0 0.0 67532.53 105751.03 304768.73]\n",
            " [0.0 0.0 1.0 77044.01 99281.34 140574.81]\n",
            " [1.0 0.0 0.0 64664.71 139553.16 137962.62]\n",
            " [0.0 1.0 0.0 75328.87 144135.98 134050.07]\n",
            " [0.0 0.0 1.0 72107.6 127864.55 353183.81]\n",
            " [0.0 1.0 0.0 66051.52 182645.56 118148.2]\n",
            " [0.0 0.0 1.0 65605.48 153032.06 107138.38]\n",
            " [0.0 1.0 0.0 61994.48 115641.28 91131.24]\n",
            " [0.0 0.0 1.0 61136.38 152701.92 88218.23]\n",
            " [1.0 0.0 0.0 63408.86 129219.61 46085.25]\n",
            " [0.0 1.0 0.0 55493.95 103057.49 214634.81]\n",
            " [1.0 0.0 0.0 46426.07 157693.92 210797.67]\n",
            " [0.0 0.0 1.0 46014.02 85047.44 205517.64]\n",
            " [0.0 1.0 0.0 28663.76 127056.21 201126.82]\n",
            " [1.0 0.0 0.0 44069.95 51283.14 197029.42]\n",
            " [0.0 0.0 1.0 20229.59 65947.93 185265.1]\n",
            " [1.0 0.0 0.0 38558.51 82982.09 174999.3]\n",
            " [1.0 0.0 0.0 28754.33 118546.05 172795.67]\n",
            " [0.0 1.0 0.0 27892.92 84710.77 164470.71]\n",
            " [1.0 0.0 0.0 23640.93 96189.63 148001.11]\n",
            " [0.0 0.0 1.0 15505.73 127382.3 35534.17]\n",
            " [1.0 0.0 0.0 22177.74 154806.14 28334.72]\n",
            " [0.0 0.0 1.0 1000.23 124153.04 1903.93]\n",
            " [0.0 1.0 0.0 1315.46 115816.21 297114.46]\n",
            " [1.0 0.0 0.0 0.0 135426.92 0.0]\n",
            " [0.0 0.0 1.0 542.05 51743.15 0.0]\n",
            " [1.0 0.0 0.0 0.0 116983.8 45173.06]]\n"
          ]
        }
      ]
    },
    {
      "cell_type": "markdown",
      "source": [
        "***Split data***\n",
        "\n",
        "---\n",
        "\n"
      ],
      "metadata": {
        "id": "dxDnZmLbTy7r"
      }
    },
    {
      "cell_type": "code",
      "source": [
        "x_train,x_test,y_train,y_test = train_test_split(x,y,test_size= 0.2, random_state=1)"
      ],
      "metadata": {
        "id": "ZzMGf4xTY-Ns"
      },
      "execution_count": null,
      "outputs": []
    },
    {
      "cell_type": "code",
      "source": [
        "print(x_train)"
      ],
      "metadata": {
        "colab": {
          "base_uri": "https://localhost:8080/"
        },
        "id": "QnjMcs1qZe4v",
        "outputId": "09fc530d-76e6-4612-85dc-5fec0196406b"
      },
      "execution_count": null,
      "outputs": [
        {
          "output_type": "stream",
          "name": "stdout",
          "text": [
            "[[1.0 0.0 0.0 63408.86 129219.61 46085.25]\n",
            " [1.0 0.0 0.0 38558.51 82982.09 174999.3]\n",
            " [0.0 0.0 1.0 78389.47 153773.43 299737.29]\n",
            " [0.0 1.0 0.0 28663.76 127056.21 201126.82]\n",
            " [0.0 0.0 1.0 86419.7 153514.11 0.0]\n",
            " [1.0 0.0 0.0 23640.93 96189.63 148001.11]\n",
            " [1.0 0.0 0.0 0.0 116983.8 45173.06]\n",
            " [0.0 1.0 0.0 75328.87 144135.98 134050.07]\n",
            " [0.0 1.0 0.0 73994.56 122782.75 303319.26]\n",
            " [1.0 0.0 0.0 91992.39 135495.07 252664.93]\n",
            " [0.0 1.0 0.0 27892.92 84710.77 164470.71]\n",
            " [0.0 0.0 1.0 94657.16 145077.58 282574.31]\n",
            " [0.0 0.0 1.0 1000.23 124153.04 1903.93]\n",
            " [0.0 0.0 1.0 77044.01 99281.34 140574.81]\n",
            " [0.0 1.0 0.0 67532.53 105751.03 304768.73]\n",
            " [0.0 1.0 0.0 142107.34 91391.77 366168.42]\n",
            " [0.0 1.0 0.0 55493.95 103057.49 214634.81]\n",
            " [0.0 1.0 0.0 119943.24 156547.42 256512.92]\n",
            " [0.0 1.0 0.0 61994.48 115641.28 91131.24]\n",
            " [0.0 1.0 0.0 101913.08 110594.11 229160.95]\n",
            " [0.0 1.0 0.0 66051.52 182645.56 118148.2]\n",
            " [1.0 0.0 0.0 22177.74 154806.14 28334.72]\n",
            " [1.0 0.0 0.0 46426.07 157693.92 210797.67]\n",
            " [0.0 1.0 0.0 91749.16 114175.79 294919.57]\n",
            " [1.0 0.0 0.0 76253.86 113867.3 298664.47]\n",
            " [1.0 0.0 0.0 64664.71 139553.16 137962.62]\n",
            " [1.0 0.0 0.0 134615.46 147198.87 127716.82]\n",
            " [0.0 1.0 0.0 130298.13 145530.06 323876.68]\n",
            " [1.0 0.0 0.0 0.0 135426.92 0.0]\n",
            " [1.0 0.0 0.0 162597.7 151377.59 443898.53]\n",
            " [1.0 0.0 0.0 78013.11 121597.55 264346.06]\n",
            " [0.0 0.0 1.0 165349.2 136897.8 471784.1]\n",
            " [0.0 0.0 1.0 114523.61 122616.84 261776.23]\n",
            " [0.0 0.0 1.0 131876.9 99814.71 362861.36]\n",
            " [1.0 0.0 0.0 100671.96 91790.61 249744.55]\n",
            " [1.0 0.0 0.0 123334.88 108679.17 304981.62]\n",
            " [0.0 0.0 1.0 120542.52 148718.95 311613.29]\n",
            " [0.0 1.0 0.0 93863.75 127320.38 249839.44]\n",
            " [0.0 0.0 1.0 15505.73 127382.3 35534.17]\n",
            " [1.0 0.0 0.0 44069.95 51283.14 197029.42]]\n"
          ]
        }
      ]
    },
    {
      "cell_type": "code",
      "source": [
        "print(x_test)"
      ],
      "metadata": {
        "colab": {
          "base_uri": "https://localhost:8080/"
        },
        "id": "E7dlfso1ZjU5",
        "outputId": "6b1b7c99-2ebb-4dd2-803e-2a9c345ee743"
      },
      "execution_count": null,
      "outputs": [
        {
          "output_type": "stream",
          "name": "stdout",
          "text": [
            "[[0.0 0.0 1.0 72107.6 127864.55 353183.81]\n",
            " [0.0 0.0 1.0 46014.02 85047.44 205517.64]\n",
            " [1.0 0.0 0.0 28754.33 118546.05 172795.67]\n",
            " [0.0 0.0 1.0 20229.59 65947.93 185265.1]\n",
            " [0.0 1.0 0.0 153441.51 101145.55 407934.54]\n",
            " [0.0 0.0 1.0 144372.41 118671.85 383199.62]\n",
            " [0.0 0.0 1.0 542.05 51743.15 0.0]\n",
            " [0.0 0.0 1.0 65605.48 153032.06 107138.38]\n",
            " [0.0 1.0 0.0 1315.46 115816.21 297114.46]\n",
            " [0.0 0.0 1.0 61136.38 152701.92 88218.23]]\n"
          ]
        }
      ]
    },
    {
      "cell_type": "code",
      "source": [
        "print(y_train)"
      ],
      "metadata": {
        "colab": {
          "base_uri": "https://localhost:8080/"
        },
        "id": "gvWLHw_VZmSH",
        "outputId": "72c91836-55aa-41ee-98f9-4de9f374f3d9"
      },
      "execution_count": null,
      "outputs": [
        {
          "output_type": "stream",
          "name": "stdout",
          "text": [
            "[ 97427.84  81005.76 111313.02  90708.19 122776.86  71498.49  14681.4\n",
            " 105733.54 110352.25 134307.35  77798.83 125370.37  64926.08 108552.04\n",
            " 108733.99 166187.94  96778.92 132602.65  99937.59 146121.95 103282.38\n",
            "  65200.33  96712.8  124266.9  118474.03 107404.34 156122.51 155752.6\n",
            "  42559.73 191792.06 126992.93 192261.83 129917.04 156991.12 144259.4\n",
            " 149759.96 152211.77 141585.52  69758.98  89949.14]\n"
          ]
        }
      ]
    },
    {
      "cell_type": "code",
      "source": [
        "print(y_test)"
      ],
      "metadata": {
        "colab": {
          "base_uri": "https://localhost:8080/"
        },
        "id": "oifPzfreZpGA",
        "outputId": "97dcf6ef-25b7-4550-f331-5888ad22310c"
      },
      "execution_count": null,
      "outputs": [
        {
          "output_type": "stream",
          "name": "stdout",
          "text": [
            "[105008.31  96479.51  78239.91  81229.06 191050.39 182901.99  35673.41\n",
            " 101004.64  49490.75  97483.56]\n"
          ]
        }
      ]
    },
    {
      "cell_type": "markdown",
      "source": [
        "***Training linear regression***\n",
        "\n",
        "---\n",
        "\n"
      ],
      "metadata": {
        "id": "224tv-O5T5LQ"
      }
    },
    {
      "cell_type": "code",
      "source": [
        "regressor = LinearRegression()"
      ],
      "metadata": {
        "id": "cdeCUKDGZ9K9"
      },
      "execution_count": null,
      "outputs": []
    },
    {
      "cell_type": "code",
      "source": [
        "regressor.fit(x_train,y_train)"
      ],
      "metadata": {
        "colab": {
          "base_uri": "https://localhost:8080/"
        },
        "id": "GHj7f__zaJl4",
        "outputId": "2d3ec6c1-0a12-47bb-bf0f-aac5f4afbbbe"
      },
      "execution_count": null,
      "outputs": [
        {
          "output_type": "execute_result",
          "data": {
            "text/plain": [
              "LinearRegression()"
            ]
          },
          "metadata": {},
          "execution_count": 46
        }
      ]
    },
    {
      "cell_type": "markdown",
      "source": [
        "***Regression predicting***\n",
        "\n",
        "---\n",
        "\n"
      ],
      "metadata": {
        "id": "_B7OXGVyT9gW"
      }
    },
    {
      "cell_type": "code",
      "source": [
        "y_pred =regressor.predict(x_test)"
      ],
      "metadata": {
        "id": "VDwNOs1nanwJ"
      },
      "execution_count": null,
      "outputs": []
    },
    {
      "cell_type": "markdown",
      "source": [
        "***Checking result***\n",
        "\n",
        "---\n",
        "\n"
      ],
      "metadata": {
        "id": "A709Q7BVUBaT"
      }
    },
    {
      "cell_type": "code",
      "source": [
        "np.set_printoptions(precision =2)\n",
        "print(np.concatenate((y_pred.reshape(len(y_pred),1),y_test.reshape(len(y_pred),1)),axis=1))"
      ],
      "metadata": {
        "colab": {
          "base_uri": "https://localhost:8080/"
        },
        "id": "rreAXYcycCum",
        "outputId": "c2497d1e-5670-45bd-abec-893af20dbc4d"
      },
      "execution_count": null,
      "outputs": [
        {
          "output_type": "stream",
          "name": "stdout",
          "text": [
            "[[114664.42 105008.31]\n",
            " [ 90593.16  96479.51]\n",
            " [ 75692.84  78239.91]\n",
            " [ 70221.89  81229.06]\n",
            " [179790.26 191050.39]\n",
            " [171576.92 182901.99]\n",
            " [ 49753.59  35673.41]\n",
            " [102276.66 101004.64]\n",
            " [ 58649.38  49490.75]\n",
            " [ 98272.03  97483.56]]\n"
          ]
        }
      ]
    },
    {
      "cell_type": "code",
      "source": [
        "regressor.coef_"
      ],
      "metadata": {
        "colab": {
          "base_uri": "https://localhost:8080/"
        },
        "id": "-kLwk-2udHJI",
        "outputId": "38d95ffd-fb6c-4e56-8c7d-b4fac91ae05c"
      },
      "execution_count": null,
      "outputs": [
        {
          "output_type": "execute_result",
          "data": {
            "text/plain": [
              "array([-2.85e+02,  2.98e+02, -1.24e+01,  7.74e-01, -9.44e-03,  2.89e-02])"
            ]
          },
          "metadata": {},
          "execution_count": 49
        }
      ]
    },
    {
      "cell_type": "code",
      "source": [
        "regressor.intercept_"
      ],
      "metadata": {
        "colab": {
          "base_uri": "https://localhost:8080/"
        },
        "id": "euZmDkRodwsK",
        "outputId": "78954982-0d91-4ec1-f74f-16e996d10f4f"
      },
      "execution_count": null,
      "outputs": [
        {
          "output_type": "execute_result",
          "data": {
            "text/plain": [
              "49834.88507322691"
            ]
          },
          "metadata": {},
          "execution_count": 50
        }
      ]
    },
    {
      "cell_type": "markdown",
      "source": [
        "Therefore, the equation of our multiple linear regression model is:\n",
        "\n",
        "Profit = -285×Dummy State 1 + 298×Dummy State 2 - 12.4×Dummy State 3 + 0.74×R&D Spend - 0.00944 ×Administration + 0.0289×Marketing Spend + 49834.88"
      ],
      "metadata": {
        "id": "-A7tOJuCjdQ6"
      }
    },
    {
      "cell_type": "markdown",
      "source": [
        "Making a single prediction (for example the profit of a startup with R&D Spend = 160000, Administration Spend = 130000, Marketing Spend = 300000 and State = 'California')"
      ],
      "metadata": {
        "id": "A29T3GuxixWh"
      }
    },
    {
      "cell_type": "code",
      "source": [
        "print(regressor.predict([[1, 0, 0, 160000, 130000, 300000]]))"
      ],
      "metadata": {
        "colab": {
          "base_uri": "https://localhost:8080/"
        },
        "id": "wSdT5Z7AfRXc",
        "outputId": "ee42dd98-8473-4ed4-b6ef-0dd218a458d9"
      },
      "execution_count": null,
      "outputs": [
        {
          "output_type": "stream",
          "name": "stdout",
          "text": [
            "[180892.25]\n"
          ]
        }
      ]
    },
    {
      "cell_type": "markdown",
      "source": [
        "## Polynomial Regression"
      ],
      "metadata": {
        "id": "Sf9834mdAyZf"
      }
    },
    {
      "cell_type": "markdown",
      "source": [
        "***Import Dataset***\n",
        "\n",
        "---\n",
        "\n"
      ],
      "metadata": {
        "id": "AxcTGUnwBwMC"
      }
    },
    {
      "cell_type": "code",
      "source": [
        "df = pd.read_csv('/content/drive/MyDrive/Machine Learning A-Z (Codes and Datasets)/Part 2 - Regression/Section 6 - Polynomial Regression/Python/Position_Salaries.csv')"
      ],
      "metadata": {
        "id": "SZH3-T1NB5de"
      },
      "execution_count": null,
      "outputs": []
    },
    {
      "cell_type": "markdown",
      "source": [
        "***Splitting x and y***\n",
        "\n",
        "---\n",
        "\n"
      ],
      "metadata": {
        "id": "3Jah8w3OBwMC"
      }
    },
    {
      "cell_type": "code",
      "source": [
        "x = df.iloc[:,1:-1].values\n",
        "y = df.iloc[:,-1].values"
      ],
      "metadata": {
        "id": "HAqbYiobB58p"
      },
      "execution_count": null,
      "outputs": []
    },
    {
      "cell_type": "code",
      "source": [
        "print(x)"
      ],
      "metadata": {
        "colab": {
          "base_uri": "https://localhost:8080/"
        },
        "id": "7DxCZcDUDuy7",
        "outputId": "55f87337-4d40-4367-de03-ddb97e6e5e5a"
      },
      "execution_count": null,
      "outputs": [
        {
          "output_type": "stream",
          "name": "stdout",
          "text": [
            "[[ 1]\n",
            " [ 2]\n",
            " [ 3]\n",
            " [ 4]\n",
            " [ 5]\n",
            " [ 6]\n",
            " [ 7]\n",
            " [ 8]\n",
            " [ 9]\n",
            " [10]]\n"
          ]
        }
      ]
    },
    {
      "cell_type": "code",
      "source": [
        "print(y)"
      ],
      "metadata": {
        "colab": {
          "base_uri": "https://localhost:8080/"
        },
        "id": "2V2zSnM0D0Mg",
        "outputId": "edd8dead-4905-4715-a59e-377cf3158308"
      },
      "execution_count": null,
      "outputs": [
        {
          "output_type": "stream",
          "name": "stdout",
          "text": [
            "[  45000   50000   60000   80000  110000  150000  200000  300000  500000\n",
            " 1000000]\n"
          ]
        }
      ]
    },
    {
      "cell_type": "markdown",
      "source": [
        "***Training linear regression for comparison***\n",
        "\n",
        "---\n",
        "\n"
      ],
      "metadata": {
        "id": "UgGtf0EPBwMC"
      }
    },
    {
      "cell_type": "code",
      "source": [
        "regressor = LinearRegression()"
      ],
      "metadata": {
        "id": "3y5Auo8gB67T"
      },
      "execution_count": null,
      "outputs": []
    },
    {
      "cell_type": "code",
      "source": [
        "regressor.fit(x, y)"
      ],
      "metadata": {
        "colab": {
          "base_uri": "https://localhost:8080/"
        },
        "id": "8zWh1BASFTMo",
        "outputId": "98579ef0-c9c3-43ec-b0ad-e1f47dcab312"
      },
      "execution_count": null,
      "outputs": [
        {
          "output_type": "execute_result",
          "data": {
            "text/plain": [
              "LinearRegression()"
            ]
          },
          "metadata": {},
          "execution_count": 57
        }
      ]
    },
    {
      "cell_type": "markdown",
      "source": [
        "***Training polynomial regression for comparison***\n",
        "\n",
        "---\n",
        "\n"
      ],
      "metadata": {
        "id": "MQ1qm7l6H-6S"
      }
    },
    {
      "cell_type": "code",
      "source": [
        "poly_reg = PolynomialFeatures(degree=4)\n",
        "x_poly = poly_reg.fit_transform(x)\n",
        "lin_reg = LinearRegression()\n",
        "lin_reg.fit(x_poly,y)"
      ],
      "metadata": {
        "colab": {
          "base_uri": "https://localhost:8080/"
        },
        "id": "xbcRhs27JZcs",
        "outputId": "c1235ec1-852c-4864-e5e4-19f1611b446a"
      },
      "execution_count": null,
      "outputs": [
        {
          "output_type": "execute_result",
          "data": {
            "text/plain": [
              "LinearRegression()"
            ]
          },
          "metadata": {},
          "execution_count": 58
        }
      ]
    },
    {
      "cell_type": "markdown",
      "source": [
        "***Visualizing Linear results***\n",
        "\n",
        "---\n",
        "\n"
      ],
      "metadata": {
        "id": "A-dw_KoeBwMC"
      }
    },
    {
      "cell_type": "code",
      "source": [
        "plt.scatter(x,y, color ='red')\n",
        "plt.plot(x,regressor.predict(x),color='blue')\n",
        "plt.title('Truth or Bluff (Linear Regression)')\n",
        "plt.xlabel('Position Level')\n",
        "plt.ylabel('Salary')\n",
        "plt.show()"
      ],
      "metadata": {
        "colab": {
          "base_uri": "https://localhost:8080/",
          "height": 295
        },
        "id": "H08vimu8B7n-",
        "outputId": "5e0b2726-a9ba-4ec7-91a2-4b6799d6ffcb"
      },
      "execution_count": null,
      "outputs": [
        {
          "output_type": "display_data",
          "data": {
            "text/plain": [
              "<Figure size 432x288 with 1 Axes>"
            ],
            "image/png": "[encoded data removed]"
          },
          "metadata": {
            "needs_background": "light"
          }
        }
      ]
    },
    {
      "cell_type": "markdown",
      "source": [
        "***Visualizing Polynomial results***\n",
        "\n",
        "---\n",
        "\n"
      ],
      "metadata": {
        "id": "Ryl2z9fLBwMD"
      }
    },
    {
      "cell_type": "code",
      "source": [
        "plt.scatter(x,y, color ='red')\n",
        "plt.plot(x,lin_reg.predict(x_poly),color='blue')\n",
        "plt.title('Truth or Bluff (Polynomial Regression)')\n",
        "plt.xlabel('Position Level')\n",
        "plt.ylabel('Salary')\n",
        "plt.show()"
      ],
      "metadata": {
        "colab": {
          "base_uri": "https://localhost:8080/",
          "height": 295
        },
        "id": "ltnvvT63B8Jx",
        "outputId": "5dba636d-ea88-4091-e249-21e63f508442"
      },
      "execution_count": null,
      "outputs": [
        {
          "output_type": "display_data",
          "data": {
            "text/plain": [
              "<Figure size 432x288 with 1 Axes>"
            ],
            "image/png": "[encoded data removed]"
          },
          "metadata": {
            "needs_background": "light"
          }
        }
      ]
    },
    {
      "cell_type": "markdown",
      "source": [
        "***Predicting linear Results***\n",
        "\n",
        "---\n"
      ],
      "metadata": {
        "id": "BiAY3Uy3O-_J"
      }
    },
    {
      "cell_type": "code",
      "source": [
        "regressor.predict([[6.5]])"
      ],
      "metadata": {
        "colab": {
          "base_uri": "https://localhost:8080/"
        },
        "id": "dWnrwFsvO002",
        "outputId": "d4b73466-28fb-4d83-850a-4b8da0c5043b"
      },
      "execution_count": null,
      "outputs": [
        {
          "output_type": "execute_result",
          "data": {
            "text/plain": [
              "array([330378.79])"
            ]
          },
          "metadata": {},
          "execution_count": 61
        }
      ]
    },
    {
      "cell_type": "markdown",
      "source": [
        "***Prediciting Polynomial Results***\n",
        "\n",
        "---\n",
        "\n"
      ],
      "metadata": {
        "id": "Ok3utJOXPGOg"
      }
    },
    {
      "cell_type": "code",
      "source": [
        "lin_reg.predict(poly_reg.fit_transform([[6.5]]))"
      ],
      "metadata": {
        "colab": {
          "base_uri": "https://localhost:8080/"
        },
        "id": "kYYJrlGTPHFw",
        "outputId": "29c3ccd4-4f03-4424-b70f-74f7ad3ca9d7"
      },
      "execution_count": null,
      "outputs": [
        {
          "output_type": "execute_result",
          "data": {
            "text/plain": [
              "array([158862.45])"
            ]
          },
          "metadata": {},
          "execution_count": 62
        }
      ]
    },
    {
      "cell_type": "markdown",
      "source": [
        "## Support Vector Regression (SVR)"
      ],
      "metadata": {
        "id": "0L70kHozAygt"
      }
    },
    {
      "cell_type": "markdown",
      "source": [
        "***Import Dataset***\n",
        "\n",
        "---\n",
        "\n"
      ],
      "metadata": {
        "id": "2t8CwvIQBxe_"
      }
    },
    {
      "cell_type": "code",
      "source": [
        "df = pd.read_csv('/content/drive/MyDrive/Machine Learning A-Z (Codes and Datasets)/Part 2 - Regression/Section 7 - Support Vector Regression (SVR)/Python/Position_Salaries.csv')"
      ],
      "metadata": {
        "id": "fZ9BYUYwOnsE"
      },
      "execution_count": null,
      "outputs": []
    },
    {
      "cell_type": "markdown",
      "source": [
        "***Splitting x and y***\n",
        "\n",
        "---\n",
        "\n"
      ],
      "metadata": {
        "id": "WqPwXkziBxfA"
      }
    },
    {
      "cell_type": "code",
      "source": [
        "x = df.iloc[:,1:-1].values\n",
        "y = df.iloc[:,-1].values"
      ],
      "metadata": {
        "id": "vekfg57OOtjM"
      },
      "execution_count": null,
      "outputs": []
    },
    {
      "cell_type": "code",
      "source": [
        "print(x)"
      ],
      "metadata": {
        "id": "_eBS4ZiDTy1-",
        "outputId": "e78dcc24-6302-48d0-abf4-299d5ed2975b",
        "colab": {
          "base_uri": "https://localhost:8080/"
        }
      },
      "execution_count": null,
      "outputs": [
        {
          "output_type": "stream",
          "name": "stdout",
          "text": [
            "[[ 1]\n",
            " [ 2]\n",
            " [ 3]\n",
            " [ 4]\n",
            " [ 5]\n",
            " [ 6]\n",
            " [ 7]\n",
            " [ 8]\n",
            " [ 9]\n",
            " [10]]\n"
          ]
        }
      ]
    },
    {
      "cell_type": "code",
      "source": [
        "print(y)#standard scaler accepts 2d array so we need to convert it into 2d array by reshape"
      ],
      "metadata": {
        "id": "WLiCHomdTyyj",
        "outputId": "4b9073e8-9b0f-4ff1-df83-6bd1c2d991e3",
        "colab": {
          "base_uri": "https://localhost:8080/"
        }
      },
      "execution_count": null,
      "outputs": [
        {
          "output_type": "stream",
          "name": "stdout",
          "text": [
            "[  45000   50000   60000   80000  110000  150000  200000  300000  500000\n",
            " 1000000]\n"
          ]
        }
      ]
    },
    {
      "cell_type": "code",
      "source": [
        "y= y.reshape(len(y),1)\n",
        "print(y)"
      ],
      "metadata": {
        "id": "_N5cOT-gUVCu",
        "outputId": "54ace423-10be-444f-8e52-0883ec7588c8",
        "colab": {
          "base_uri": "https://localhost:8080/"
        }
      },
      "execution_count": null,
      "outputs": [
        {
          "output_type": "stream",
          "name": "stdout",
          "text": [
            "[[  45000]\n",
            " [  50000]\n",
            " [  60000]\n",
            " [  80000]\n",
            " [ 110000]\n",
            " [ 150000]\n",
            " [ 200000]\n",
            " [ 300000]\n",
            " [ 500000]\n",
            " [1000000]]\n"
          ]
        }
      ]
    },
    {
      "cell_type": "markdown",
      "source": [
        "***Feature Scaling***\n",
        "\n",
        "---\n",
        "\n"
      ],
      "metadata": {
        "id": "84kvcHfTBxfA"
      }
    },
    {
      "cell_type": "code",
      "source": [
        "sc_x = StandardScaler()#this calculates mean once its fitted to one column it \n",
        "#will calculate its mean and use it. as the mean of two diff column will be different so we will have to create two standard scaler vectors\n",
        "sc_y = StandardScaler()\n",
        "x= sc_x.fit_transform(x)\n",
        "y=sc_y.fit_transform(y)"
      ],
      "metadata": {
        "id": "hAzJeahOQgn0"
      },
      "execution_count": null,
      "outputs": []
    },
    {
      "cell_type": "code",
      "source": [
        "print(x)"
      ],
      "metadata": {
        "id": "-SwpBNu4Vsp0",
        "outputId": "cb0aea60-f7a0-40f0-9640-4069a8763777",
        "colab": {
          "base_uri": "https://localhost:8080/"
        }
      },
      "execution_count": null,
      "outputs": [
        {
          "output_type": "stream",
          "name": "stdout",
          "text": [
            "[[-1.57]\n",
            " [-1.22]\n",
            " [-0.87]\n",
            " [-0.52]\n",
            " [-0.17]\n",
            " [ 0.17]\n",
            " [ 0.52]\n",
            " [ 0.87]\n",
            " [ 1.22]\n",
            " [ 1.57]]\n"
          ]
        }
      ]
    },
    {
      "cell_type": "code",
      "source": [
        "print(y)"
      ],
      "metadata": {
        "id": "kriVRNlQVwkf",
        "outputId": "c83565e2-2989-4d7d-c4cc-aa42f5e6bcbf",
        "colab": {
          "base_uri": "https://localhost:8080/"
        }
      },
      "execution_count": null,
      "outputs": [
        {
          "output_type": "stream",
          "name": "stdout",
          "text": [
            "[[-0.72]\n",
            " [-0.7 ]\n",
            " [-0.67]\n",
            " [-0.6 ]\n",
            " [-0.49]\n",
            " [-0.35]\n",
            " [-0.17]\n",
            " [ 0.18]\n",
            " [ 0.88]\n",
            " [ 2.64]]\n"
          ]
        }
      ]
    },
    {
      "cell_type": "markdown",
      "source": [
        "***Training svr regression model***\n",
        "\n",
        "---\n",
        "\n"
      ],
      "metadata": {
        "id": "GWk49ZjmBxfB"
      }
    },
    {
      "cell_type": "code",
      "source": [
        "regressor = SVR(kernel = 'rbf')\n",
        "regressor.fit(x,y)"
      ],
      "metadata": {
        "id": "iXCnzhuuQhHr",
        "outputId": "8f764e2c-54e7-4b67-a263-0fb977a9a33c",
        "colab": {
          "base_uri": "https://localhost:8080/"
        }
      },
      "execution_count": null,
      "outputs": [
        {
          "output_type": "stream",
          "name": "stderr",
          "text": [
            "/usr/local/lib/python3.8/dist-packages/sklearn/utils/validation.py:993: DataConversionWarning: A column-vector y was passed when a 1d array was expected. Please change the shape of y to (n_samples, ), for example using ravel().\n",
            "  y = column_or_1d(y, warn=True)\n"
          ]
        },
        {
          "output_type": "execute_result",
          "data": {
            "text/plain": [
              "SVR()"
            ]
          },
          "metadata": {},
          "execution_count": 71
        }
      ]
    },
    {
      "cell_type": "markdown",
      "source": [
        "***Regression predicting***\n",
        "\n",
        "---\n",
        "\n"
      ],
      "metadata": {
        "id": "3q9V4MCfBxfB"
      }
    },
    {
      "cell_type": "code",
      "source": [
        "sc_y.inverse_transform(regressor.predict(sc_x.transform([[6.5]])).reshape(-1,1))"
      ],
      "metadata": {
        "id": "tqTz2VkuQh2r",
        "outputId": "913ba29e-eb6c-4ee7-e7aa-ed1f607c5c80",
        "colab": {
          "base_uri": "https://localhost:8080/"
        }
      },
      "execution_count": null,
      "outputs": [
        {
          "output_type": "execute_result",
          "data": {
            "text/plain": [
              "array([[170370.02]])"
            ]
          },
          "metadata": {},
          "execution_count": 72
        }
      ]
    },
    {
      "cell_type": "markdown",
      "source": [
        "***Visualizing result***\n",
        "\n",
        "---\n",
        "\n"
      ],
      "metadata": {
        "id": "4yLvFJERBxfB"
      }
    },
    {
      "cell_type": "code",
      "source": [
        "plt.scatter(sc_x.inverse_transform(x),sc_y.inverse_transform(y),color='red')\n",
        "plt.plot(sc_x.inverse_transform(x), sc_y.inverse_transform(regressor.predict(x).reshape(-1,1)), color = 'blue')\n",
        "plt.title('Truth or Bluff (Support Vector Regression')\n",
        "plt.xlabel('Positin Level')\n",
        "plt.ylabel('Salary')\n",
        "plt.show()"
      ],
      "metadata": {
        "id": "9A-SpC3VQicw",
        "outputId": "2399d4ef-e831-4308-846a-2da913f82773",
        "colab": {
          "base_uri": "https://localhost:8080/",
          "height": 295
        }
      },
      "execution_count": null,
      "outputs": [
        {
          "output_type": "display_data",
          "data": {
            "text/plain": [
              "<Figure size 432x288 with 1 Axes>"
            ],
            "image/png": "[encoded data removed]"
          },
          "metadata": {
            "needs_background": "light"
          }
        }
      ]
    },
    {
      "cell_type": "code",
      "source": [
        "X_grid = np.arange(min(sc_x.inverse_transform(x)), max(sc_x.inverse_transform(x)), 0.1)\n",
        "X_grid = X_grid.reshape((len(X_grid), 1))\n",
        "plt.scatter(sc_x.inverse_transform(x), sc_y.inverse_transform(y), color = 'red')\n",
        "plt.plot(X_grid, sc_y.inverse_transform(regressor.predict(sc_x.transform(X_grid)).reshape(-1,1)), color = 'blue')\n",
        "plt.title('Truth or Bluff (SVR)')\n",
        "plt.xlabel('Position level')\n",
        "plt.ylabel('Salary')\n",
        "plt.show()"
      ],
      "metadata": {
        "id": "7J4z5hQ617Lw",
        "outputId": "2f274d29-f78f-492e-87c8-88f267daee35",
        "colab": {
          "base_uri": "https://localhost:8080/",
          "height": 295
        }
      },
      "execution_count": null,
      "outputs": [
        {
          "output_type": "display_data",
          "data": {
            "text/plain": [
              "<Figure size 432x288 with 1 Axes>"
            ],
            "image/png": "[encoded data removed]"
          },
          "metadata": {
            "needs_background": "light"
          }
        }
      ]
    },
    {
      "cell_type": "markdown",
      "source": [
        "## Decision Tree"
      ],
      "metadata": {
        "id": "42YhrBRfBGtV"
      }
    },
    {
      "cell_type": "markdown",
      "source": [
        "***Import Dataset***\n",
        "\n",
        "---\n",
        "\n"
      ],
      "metadata": {
        "id": "t_6ev82BByp2"
      }
    },
    {
      "cell_type": "code",
      "source": [
        "df = pd.read_csv('/content/drive/MyDrive/Machine Learning A-Z (Codes and Datasets)/Part 2 - Regression/Section 8 - Decision Tree Regression/Python/Position_Salaries.csv')"
      ],
      "metadata": {
        "id": "x-VxTFvgT6_r"
      },
      "execution_count": null,
      "outputs": []
    },
    {
      "cell_type": "markdown",
      "source": [
        "***Splitting x and y***\n",
        "\n",
        "---\n",
        "\n"
      ],
      "metadata": {
        "id": "lMxI-FaCByp2"
      }
    },
    {
      "cell_type": "code",
      "source": [
        "x = df.iloc[:,1:-1].values\n",
        "y=df.iloc[:,-1].values"
      ],
      "metadata": {
        "id": "xwf8UU2OT7h6"
      },
      "execution_count": null,
      "outputs": []
    },
    {
      "cell_type": "code",
      "source": [
        "print(x)\n"
      ],
      "metadata": {
        "colab": {
          "base_uri": "https://localhost:8080/"
        },
        "id": "h_OtUDAlUfBH",
        "outputId": "f8a320d6-1c59-473a-d2b2-a635ac21f969"
      },
      "execution_count": null,
      "outputs": [
        {
          "output_type": "stream",
          "name": "stdout",
          "text": [
            "[[ 1]\n",
            " [ 2]\n",
            " [ 3]\n",
            " [ 4]\n",
            " [ 5]\n",
            " [ 6]\n",
            " [ 7]\n",
            " [ 8]\n",
            " [ 9]\n",
            " [10]]\n"
          ]
        }
      ]
    },
    {
      "cell_type": "code",
      "source": [
        "print(y)"
      ],
      "metadata": {
        "colab": {
          "base_uri": "https://localhost:8080/"
        },
        "id": "4CvfHDiOUjDf",
        "outputId": "832fcc12-c633-42ed-a6f5-7d546084da2d"
      },
      "execution_count": null,
      "outputs": [
        {
          "output_type": "stream",
          "name": "stdout",
          "text": [
            "[  45000   50000   60000   80000  110000  150000  200000  300000  500000\n",
            " 1000000]\n"
          ]
        }
      ]
    },
    {
      "cell_type": "markdown",
      "source": [
        "***Training decision tree regression***\n",
        "\n",
        "---\n",
        "\n"
      ],
      "metadata": {
        "id": "h2nhGW0WByp3"
      }
    },
    {
      "cell_type": "code",
      "source": [
        "regressor = DecisionTreeRegressor(random_state= 0)\n",
        "regressor.fit(x, y)"
      ],
      "metadata": {
        "colab": {
          "base_uri": "https://localhost:8080/"
        },
        "id": "tgePrDLRT8nj",
        "outputId": "10d687e5-9a81-4ff0-a3c2-9b5b57352e39"
      },
      "execution_count": null,
      "outputs": [
        {
          "output_type": "execute_result",
          "data": {
            "text/plain": [
              "DecisionTreeRegressor(random_state=0)"
            ]
          },
          "metadata": {},
          "execution_count": 79
        }
      ]
    },
    {
      "cell_type": "markdown",
      "source": [
        "***Regression predicting***\n",
        "\n",
        "---\n",
        "\n"
      ],
      "metadata": {
        "id": "Csso6OBlByp3"
      }
    },
    {
      "cell_type": "code",
      "source": [
        "regressor.predict([[6.5]])"
      ],
      "metadata": {
        "colab": {
          "base_uri": "https://localhost:8080/"
        },
        "id": "y7XBYvN8T9Oh",
        "outputId": "82e3d2a9-72ee-4d6c-acd5-5e6ce2a912fa"
      },
      "execution_count": null,
      "outputs": [
        {
          "output_type": "execute_result",
          "data": {
            "text/plain": [
              "array([150000.])"
            ]
          },
          "metadata": {},
          "execution_count": 80
        }
      ]
    },
    {
      "cell_type": "markdown",
      "source": [
        "***Visualizing result***\n",
        "\n",
        "---\n",
        "\n"
      ],
      "metadata": {
        "id": "1RCz1JpEByp4"
      }
    },
    {
      "cell_type": "code",
      "source": [
        "x_grid = np.arange(min(x), max(x), 0.1)\n",
        "x_grid = x_grid.reshape((len(x_grid), 1))\n",
        "plt.scatter(x, y, color= 'red' )\n",
        "plt.plot(x_grid, regressor.predict(x_grid), color = 'blue' )\n",
        "plt.title('Truth or Bluff(Decision tree model)')\n",
        "plt.xlabel('Position')\n",
        "plt.ylabel('Salary')\n",
        "plt.show()"
      ],
      "metadata": {
        "colab": {
          "base_uri": "https://localhost:8080/",
          "height": 295
        },
        "id": "vz0_FJb_T-DX",
        "outputId": "ad70b8c1-99f7-4c69-88ec-c2becba82f92"
      },
      "execution_count": null,
      "outputs": [
        {
          "output_type": "display_data",
          "data": {
            "text/plain": [
              "<Figure size 432x288 with 1 Axes>"
            ],
            "image/png": "[encoded data removed]"
          },
          "metadata": {
            "needs_background": "light"
          }
        }
      ]
    },
    {
      "cell_type": "markdown",
      "source": [
        "## Random Forest Regression"
      ],
      "metadata": {
        "id": "F6E9e2HsBHZk"
      }
    },
    {
      "cell_type": "markdown",
      "source": [
        "***Import Dataset***\n",
        "\n",
        "---\n",
        "\n"
      ],
      "metadata": {
        "id": "hpC1AkvoBzQN"
      }
    },
    {
      "cell_type": "code",
      "source": [
        "df = pd.read_csv('/content/drive/MyDrive/Machine Learning A-Z (Codes and Datasets)/Part 2 - Regression/Section 9 - Random Forest Regression/Python/Position_Salaries.csv')"
      ],
      "metadata": {
        "id": "qZsVSwKQtv_J"
      },
      "execution_count": null,
      "outputs": []
    },
    {
      "cell_type": "markdown",
      "source": [
        "***Splitting x and y***\n",
        "\n",
        "---\n",
        "\n"
      ],
      "metadata": {
        "id": "EAY5mQC-BzQO"
      }
    },
    {
      "cell_type": "code",
      "source": [
        "x = df.iloc[:,1:-1].values\n",
        "y = df.iloc[:,-1].values"
      ],
      "metadata": {
        "id": "q27qgI9Wtwiy"
      },
      "execution_count": null,
      "outputs": []
    },
    {
      "cell_type": "markdown",
      "source": [
        "***Training Random Forest regression***\n",
        "\n",
        "---\n",
        "\n"
      ],
      "metadata": {
        "id": "bTbgNQcaBzQO"
      }
    },
    {
      "cell_type": "code",
      "source": [
        "regressorr = RandomForestRegressor(n_estimators = 10, random_state = 0)\n",
        "regressorr.fit(x,y)"
      ],
      "metadata": {
        "colab": {
          "base_uri": "https://localhost:8080/"
        },
        "id": "tTvSoJKTtxSo",
        "outputId": "1e8e81c5-db4c-4d32-8dd6-fea839aaeb47"
      },
      "execution_count": null,
      "outputs": [
        {
          "output_type": "execute_result",
          "data": {
            "text/plain": [
              "RandomForestRegressor(n_estimators=10, random_state=0)"
            ]
          },
          "metadata": {},
          "execution_count": 89
        }
      ]
    },
    {
      "cell_type": "markdown",
      "source": [
        "***Regression predicting***\n",
        "\n",
        "---\n",
        "\n"
      ],
      "metadata": {
        "id": "oZnRjxdwBzQP"
      }
    },
    {
      "cell_type": "code",
      "source": [
        "regressorr.predict([[6.5]])"
      ],
      "metadata": {
        "colab": {
          "base_uri": "https://localhost:8080/"
        },
        "id": "N1gIVa5ltyXu",
        "outputId": "961c8bf9-1251-4942-ca4e-516e7d9df36b"
      },
      "execution_count": null,
      "outputs": [
        {
          "output_type": "execute_result",
          "data": {
            "text/plain": [
              "array([167000.])"
            ]
          },
          "metadata": {},
          "execution_count": 90
        }
      ]
    },
    {
      "cell_type": "markdown",
      "source": [
        "***Visualizing result***\n",
        "\n",
        "---\n",
        "\n"
      ],
      "metadata": {
        "id": "1MTjQIHOBzQP"
      }
    },
    {
      "cell_type": "code",
      "source": [
        "x_grid =np.arange(min(x), max(x), 0.1)\n",
        "x_grid = x_grid.reshape(len(x_grid),1)\n",
        "plt.scatter(x, y, color ='red')\n",
        "plt.plot(x_grid, regressorr.predict(x_grid), color = 'blue')\n",
        "plt.title('Truth or Bluff (Random Forest Regressor')\n",
        "plt.xlabel('Position')\n",
        "plt.ylabel('Salary')\n",
        "plt.show()"
      ],
      "metadata": {
        "colab": {
          "base_uri": "https://localhost:8080/",
          "height": 295
        },
        "id": "22DQx0gptzUP",
        "outputId": "2a817187-038e-4281-8ac0-f85d994c9898"
      },
      "execution_count": null,
      "outputs": [
        {
          "output_type": "display_data",
          "data": {
            "text/plain": [
              "<Figure size 432x288 with 1 Axes>"
            ],
            "image/png": "[encoded data removed]"
          },
          "metadata": {
            "needs_background": "light"
          }
        }
      ]
    },
    {
      "cell_type": "markdown",
      "source": [
        "# Evaluating Regression Models"
      ],
      "metadata": {
        "id": "IPK9VYp3BHcl"
      }
    },
    {
      "cell_type": "markdown",
      "source": [
        "##  Multiple Regression"
      ],
      "metadata": {
        "id": "n6tn532snmi3"
      }
    },
    {
      "cell_type": "markdown",
      "source": [
        "***Import Dataset***\n",
        "\n",
        "---\n",
        "\n"
      ],
      "metadata": {
        "id": "MGLf9MVmoHub"
      }
    },
    {
      "cell_type": "code",
      "source": [
        "df = pd.read_csv('/content/drive/MyDrive/Machine Learning A-Z (Codes and Datasets)/Model Selection evaluation/Machine Learning A-Z (Model Selection)/Regression/Data.csv')"
      ],
      "metadata": {
        "id": "7aX5LRFvoHuc"
      },
      "execution_count": 134,
      "outputs": []
    },
    {
      "cell_type": "markdown",
      "source": [
        "***Splitting x and y***\n",
        "\n",
        "---\n",
        "\n"
      ],
      "metadata": {
        "id": "afmO0F_1oHuc"
      }
    },
    {
      "cell_type": "code",
      "source": [
        "x = df.iloc[:,:-1].values\n",
        "y = df.iloc[:,-1].values"
      ],
      "metadata": {
        "id": "79hKkmMOoHud"
      },
      "execution_count": 114,
      "outputs": []
    },
    {
      "cell_type": "markdown",
      "source": [
        "***Split data***\n",
        "\n",
        "---\n",
        "\n"
      ],
      "metadata": {
        "id": "PzVXOWNBoHud"
      }
    },
    {
      "cell_type": "code",
      "source": [
        "x_train,x_test,y_train,y_test = train_test_split(x,y,test_size= 0.2, random_state=0)"
      ],
      "metadata": {
        "id": "FDsHeXkKoHue"
      },
      "execution_count": 115,
      "outputs": []
    },
    {
      "cell_type": "markdown",
      "source": [
        "***Training linear regression***\n",
        "\n",
        "---\n",
        "\n"
      ],
      "metadata": {
        "id": "NS1YU7gDoHue"
      }
    },
    {
      "cell_type": "code",
      "source": [
        "regressor = LinearRegression()"
      ],
      "metadata": {
        "id": "yVAweI2EoHue"
      },
      "execution_count": 116,
      "outputs": []
    },
    {
      "cell_type": "code",
      "source": [
        "regressor.fit(x_train,y_train)"
      ],
      "metadata": {
        "colab": {
          "base_uri": "https://localhost:8080/"
        },
        "outputId": "d6ad32df-d6bf-4ac6-e2ba-018339ef153d",
        "id": "0HdWxYPHoHuf"
      },
      "execution_count": 117,
      "outputs": [
        {
          "output_type": "execute_result",
          "data": {
            "text/plain": [
              "LinearRegression()"
            ]
          },
          "metadata": {},
          "execution_count": 117
        }
      ]
    },
    {
      "cell_type": "markdown",
      "source": [
        "***Regression predicting***\n",
        "\n",
        "---\n",
        "\n"
      ],
      "metadata": {
        "id": "TIm7bSchoHug"
      }
    },
    {
      "cell_type": "code",
      "source": [
        "y_pred =regressor.predict(x_test)"
      ],
      "metadata": {
        "id": "iVsQfyRIoHug"
      },
      "execution_count": 118,
      "outputs": []
    },
    {
      "cell_type": "markdown",
      "source": [
        "***Checking result***\n",
        "\n",
        "---\n",
        "\n"
      ],
      "metadata": {
        "id": "U87yr44EoHug"
      }
    },
    {
      "cell_type": "code",
      "source": [
        "print(np.concatenate((y_pred.reshape(len(y_pred),1),y_test.reshape(len(y_pred),1)),axis=1))"
      ],
      "metadata": {
        "colab": {
          "base_uri": "https://localhost:8080/"
        },
        "outputId": "2497da7d-9052-4c1b-d0b8-ca6a70a954ee",
        "id": "iNMs7YMOoHuh"
      },
      "execution_count": 119,
      "outputs": [
        {
          "output_type": "stream",
          "name": "stdout",
          "text": [
            "[[431.43 431.23]\n",
            " [458.56 460.01]\n",
            " [462.75 461.14]\n",
            " ...\n",
            " [469.52 473.26]\n",
            " [442.42 438.  ]\n",
            " [461.88 463.28]]\n"
          ]
        }
      ]
    },
    {
      "cell_type": "markdown",
      "source": [
        "***Evaluating***\n",
        "\n",
        "---\n"
      ],
      "metadata": {
        "id": "x6GGxEbnodFa"
      }
    },
    {
      "cell_type": "code",
      "source": [
        "r2_score(y_test,y_pred)"
      ],
      "metadata": {
        "id": "rBHvLMHooi0L",
        "outputId": "11640232-9449-49b8-cc33-e688d174b8a8",
        "colab": {
          "base_uri": "https://localhost:8080/"
        }
      },
      "execution_count": 120,
      "outputs": [
        {
          "output_type": "execute_result",
          "data": {
            "text/plain": [
              "0.9325315554761303"
            ]
          },
          "metadata": {},
          "execution_count": 120
        }
      ]
    },
    {
      "cell_type": "markdown",
      "source": [
        "## Polynomial Regression"
      ],
      "metadata": {
        "id": "iLFY-dAfnnJJ"
      }
    },
    {
      "cell_type": "markdown",
      "source": [
        "***Import Dataset***\n",
        "\n",
        "---\n",
        "\n"
      ],
      "metadata": {
        "id": "t8t0ZSyDpJQy"
      }
    },
    {
      "cell_type": "code",
      "source": [
        "df = pd.read_csv('/content/drive/MyDrive/Machine Learning A-Z (Codes and Datasets)/Model Selection evaluation/Machine Learning A-Z (Model Selection)/Regression/Data.csv')"
      ],
      "metadata": {
        "id": "LOgBcQ7DtL9C"
      },
      "execution_count": 140,
      "outputs": []
    },
    {
      "cell_type": "code",
      "source": [
        "x = df.iloc[:,:-1].values\n",
        "y = df.iloc[:,-1].values"
      ],
      "metadata": {
        "id": "ULB2Rb6epJQ0"
      },
      "execution_count": 141,
      "outputs": []
    },
    {
      "cell_type": "markdown",
      "source": [
        "***Split data***\n",
        "\n",
        "---\n",
        "\n"
      ],
      "metadata": {
        "id": "5FtY9hP2pQUt"
      }
    },
    {
      "cell_type": "code",
      "source": [
        "x_train,x_test,y_train,y_test = train_test_split(x,y,test_size= 0.2, random_state=0)"
      ],
      "metadata": {
        "id": "zzS4SIAHpQUu"
      },
      "execution_count": 142,
      "outputs": []
    },
    {
      "cell_type": "markdown",
      "source": [
        "***Training polynomial regression for comparison***\n",
        "\n",
        "---\n",
        "\n"
      ],
      "metadata": {
        "id": "vY2WaRq5pJQ1"
      }
    },
    {
      "cell_type": "code",
      "source": [
        "poly_reg = PolynomialFeatures(degree = 4)\n",
        "x_poly = poly_reg.fit_transform(x_train)\n",
        "regressor = LinearRegression()\n",
        "regressor.fit(x_poly, y_train)"
      ],
      "metadata": {
        "colab": {
          "base_uri": "https://localhost:8080/"
        },
        "outputId": "f810613f-b033-4aa6-e157-a225453066b5",
        "id": "JxKMkc5VpJQ2"
      },
      "execution_count": 143,
      "outputs": [
        {
          "output_type": "execute_result",
          "data": {
            "text/plain": [
              "LinearRegression()"
            ]
          },
          "metadata": {},
          "execution_count": 143
        }
      ]
    },
    {
      "cell_type": "markdown",
      "source": [
        "***Predicting Values***\n",
        "\n",
        "---\n"
      ],
      "metadata": {
        "id": "BWuyMjGjpgAz"
      }
    },
    {
      "cell_type": "code",
      "source": [
        "y_pred = regressor.predict(poly_reg.transform(x_test))\n",
        "np.set_printoptions(precision=2)\n",
        "print(np.concatenate((y_pred.reshape(len(y_pred),1), y_test.reshape(len(y_test),1)),1))"
      ],
      "metadata": {
        "id": "96GACtL8p9Wq",
        "outputId": "9d77a7de-2570-4430-d328-bdedd3fce908",
        "colab": {
          "base_uri": "https://localhost:8080/"
        }
      },
      "execution_count": 144,
      "outputs": [
        {
          "output_type": "stream",
          "name": "stdout",
          "text": [
            "[[433.94 431.23]\n",
            " [457.9  460.01]\n",
            " [460.52 461.14]\n",
            " ...\n",
            " [469.53 473.26]\n",
            " [438.27 438.  ]\n",
            " [461.66 463.28]]\n"
          ]
        }
      ]
    },
    {
      "cell_type": "markdown",
      "source": [
        "***Evaluating the model***\n",
        "\n",
        "---\n",
        "\n"
      ],
      "metadata": {
        "id": "dQuhJC91qPvd"
      }
    },
    {
      "cell_type": "code",
      "source": [
        "r2_score(y_test, y_pred)"
      ],
      "metadata": {
        "id": "IWiXIibZqVgJ",
        "outputId": "067d84b6-636d-48a7-bc91-81dae4da9e46",
        "colab": {
          "base_uri": "https://localhost:8080/"
        }
      },
      "execution_count": 145,
      "outputs": [
        {
          "output_type": "execute_result",
          "data": {
            "text/plain": [
              "0.9458192606428147"
            ]
          },
          "metadata": {},
          "execution_count": 145
        }
      ]
    },
    {
      "cell_type": "markdown",
      "source": [
        "## Support Vector Regression"
      ],
      "metadata": {
        "id": "O_xPd1xunosR"
      }
    },
    {
      "cell_type": "markdown",
      "source": [
        "***Import Dataset***\n",
        "\n",
        "---\n",
        "\n"
      ],
      "metadata": {
        "id": "4DOfL-wmuJOG"
      }
    },
    {
      "cell_type": "code",
      "source": [
        "df = pd.read_csv('/content/drive/MyDrive/Machine Learning A-Z (Codes and Datasets)/Model Selection evaluation/Machine Learning A-Z (Model Selection)/Regression/Data.csv')"
      ],
      "metadata": {
        "id": "eoCJ1Ki3uJ85"
      },
      "execution_count": 146,
      "outputs": []
    },
    {
      "cell_type": "markdown",
      "source": [
        "***Split data***\n",
        "\n",
        "---\n",
        "\n"
      ],
      "metadata": {
        "id": "dUyyDWGVuJOI"
      }
    },
    {
      "cell_type": "code",
      "source": [
        "x = df.iloc[:,:-1].values\n",
        "y= df.iloc[:,-1].values"
      ],
      "metadata": {
        "id": "xeTnp9SwuaoC"
      },
      "execution_count": 147,
      "outputs": []
    },
    {
      "cell_type": "code",
      "source": [
        "y = y.reshape(len(y),1)"
      ],
      "metadata": {
        "id": "f08WcZ2Dv5YP"
      },
      "execution_count": 150,
      "outputs": []
    },
    {
      "cell_type": "code",
      "source": [
        "x_train, x_test, y_train, y_test = train_test_split(x, y, test_size= 0.2, random_state = 0)"
      ],
      "metadata": {
        "id": "X9Vd04nkvV8K"
      },
      "execution_count": 151,
      "outputs": []
    },
    {
      "cell_type": "markdown",
      "source": [
        "***Feature Scaling***\n",
        "\n",
        "\n",
        "---\n",
        "\n",
        "\n",
        "\n",
        "\n"
      ],
      "metadata": {
        "id": "IQDAZ0VAu3ja"
      }
    },
    {
      "cell_type": "code",
      "source": [
        "sc_x = StandardScaler()\n",
        "sc_y = StandardScaler()\n",
        "x_train = sc_x.fit_transform(x_train)\n",
        "y_train = sc_y.fit_transform(y_train)"
      ],
      "metadata": {
        "id": "JH2APeXVu5en"
      },
      "execution_count": 153,
      "outputs": []
    },
    {
      "cell_type": "markdown",
      "source": [
        "***Training Support vector regression for comparison***\n",
        "\n",
        "---\n",
        "\n"
      ],
      "metadata": {
        "id": "baEKh6sZuJOJ"
      }
    },
    {
      "cell_type": "code",
      "source": [
        "regressor = SVR(kernel = 'rbf')\n",
        "regressor.fit(x_train, y_train)"
      ],
      "metadata": {
        "id": "eKNcUMlgulos",
        "outputId": "6d029dd4-6d0b-4792-c88f-d1b51fafacd6",
        "colab": {
          "base_uri": "https://localhost:8080/"
        }
      },
      "execution_count": 154,
      "outputs": [
        {
          "output_type": "stream",
          "name": "stderr",
          "text": [
            "/usr/local/lib/python3.8/dist-packages/sklearn/utils/validation.py:993: DataConversionWarning: A column-vector y was passed when a 1d array was expected. Please change the shape of y to (n_samples, ), for example using ravel().\n",
            "  y = column_or_1d(y, warn=True)\n"
          ]
        },
        {
          "output_type": "execute_result",
          "data": {
            "text/plain": [
              "SVR()"
            ]
          },
          "metadata": {},
          "execution_count": 154
        }
      ]
    },
    {
      "cell_type": "markdown",
      "source": [
        "***Predicting Values***\n",
        "\n",
        "---\n"
      ],
      "metadata": {
        "id": "6p-GJfHbuJOK"
      }
    },
    {
      "cell_type": "code",
      "source": [
        "y_pred = sc_y.inverse_transform(regressor.predict(sc_x.transform(x_test)).reshape(-1,1))"
      ],
      "metadata": {
        "id": "MiRsyqzVwe54"
      },
      "execution_count": 156,
      "outputs": []
    },
    {
      "cell_type": "code",
      "source": [
        "print(np.concatenate((y_pred.reshape(len(y_pred),1), y_test.reshape(len(y_test),1)),1))"
      ],
      "metadata": {
        "id": "5qRVFxtmxilg",
        "outputId": "46b3db7e-1849-4c70-d9c8-b5660e6d9d5e",
        "colab": {
          "base_uri": "https://localhost:8080/"
        }
      },
      "execution_count": 158,
      "outputs": [
        {
          "output_type": "stream",
          "name": "stdout",
          "text": [
            "[[434.05 431.23]\n",
            " [457.94 460.01]\n",
            " [461.03 461.14]\n",
            " ...\n",
            " [470.6  473.26]\n",
            " [439.42 438.  ]\n",
            " [460.92 463.28]]\n"
          ]
        }
      ]
    },
    {
      "cell_type": "markdown",
      "source": [
        "***Evaluating the model***\n",
        "\n",
        "---\n",
        "\n"
      ],
      "metadata": {
        "id": "nJUOE0h_uJOL"
      }
    },
    {
      "cell_type": "code",
      "source": [
        "r2_score(y_test, y_pred)"
      ],
      "metadata": {
        "id": "dAQY2FVD2WKF",
        "outputId": "5586529e-18d2-4446-b463-99cebf57cdb3",
        "colab": {
          "base_uri": "https://localhost:8080/"
        }
      },
      "execution_count": 159,
      "outputs": [
        {
          "output_type": "execute_result",
          "data": {
            "text/plain": [
              "0.9480784049986258"
            ]
          },
          "metadata": {},
          "execution_count": 159
        }
      ]
    },
    {
      "cell_type": "markdown",
      "source": [
        "## Decision Tree Regression"
      ],
      "metadata": {
        "id": "yVPVgcyRnrEy"
      }
    },
    {
      "cell_type": "markdown",
      "source": [
        "***Import Dataset***\n",
        "\n",
        "---\n",
        "\n"
      ],
      "metadata": {
        "id": "_eZ7fXV0uR-e"
      }
    },
    {
      "cell_type": "code",
      "source": [
        "df = pd.read_csv('/content/drive/MyDrive/Machine Learning A-Z (Codes and Datasets)/Model Selection evaluation/Machine Learning A-Z (Model Selection)/Regression/Data.csv')"
      ],
      "metadata": {
        "id": "LExKEHev8Yqt"
      },
      "execution_count": 160,
      "outputs": []
    },
    {
      "cell_type": "code",
      "source": [
        "x = df.iloc[:,:-1].values\n",
        "y = df.iloc[:,-1].values"
      ],
      "metadata": {
        "id": "nRBxpDOY88kR"
      },
      "execution_count": 162,
      "outputs": []
    },
    {
      "cell_type": "markdown",
      "source": [
        "***Split data***\n",
        "\n",
        "---\n",
        "\n"
      ],
      "metadata": {
        "id": "SRhqfmZFuR-f"
      }
    },
    {
      "cell_type": "code",
      "source": [
        "x_train, x_test, y_train, y_test = train_test_split(x, y, test_size = 0.2, random_state = 0)"
      ],
      "metadata": {
        "id": "KOU1UF859IWt"
      },
      "execution_count": 163,
      "outputs": []
    },
    {
      "cell_type": "markdown",
      "source": [
        "***Training decision tree regression***\n",
        "\n",
        "---\n",
        "\n"
      ],
      "metadata": {
        "id": "BfwPpqUyuR-f"
      }
    },
    {
      "cell_type": "code",
      "source": [
        "regressor = DecisionTreeRegressor(random_state= 0)\n",
        "regressor.fit(x_train, y_train)"
      ],
      "metadata": {
        "colab": {
          "base_uri": "https://localhost:8080/"
        },
        "id": "-a9u6KCO9qQ1",
        "outputId": "1d51aa5a-f79d-49a3-d89e-b6e2a8f0cbab"
      },
      "execution_count": 164,
      "outputs": [
        {
          "output_type": "execute_result",
          "data": {
            "text/plain": [
              "DecisionTreeRegressor(random_state=0)"
            ]
          },
          "metadata": {},
          "execution_count": 164
        }
      ]
    },
    {
      "cell_type": "markdown",
      "source": [
        "***Predicting Values***\n",
        "\n",
        "---\n"
      ],
      "metadata": {
        "id": "ktVjt9nGuR-f"
      }
    },
    {
      "cell_type": "code",
      "source": [
        "y_pred = regressor.predict(x_test)\n",
        "print(np.concatenate((y_pred.reshape(len(y_pred),1),y_test.reshape(len(y_test),1)),1))"
      ],
      "metadata": {
        "colab": {
          "base_uri": "https://localhost:8080/"
        },
        "id": "L2vzaua5-ePY",
        "outputId": "0145c239-97b3-48df-8c2a-a69ebd24083f"
      },
      "execution_count": 165,
      "outputs": [
        {
          "output_type": "stream",
          "name": "stdout",
          "text": [
            "[[431.28 431.23]\n",
            " [459.59 460.01]\n",
            " [460.06 461.14]\n",
            " ...\n",
            " [471.46 473.26]\n",
            " [437.76 438.  ]\n",
            " [462.74 463.28]]\n"
          ]
        }
      ]
    },
    {
      "cell_type": "markdown",
      "source": [
        "***Evaluating the model***\n",
        "\n",
        "---\n",
        "\n"
      ],
      "metadata": {
        "id": "1eYRR24NuR-f"
      }
    },
    {
      "cell_type": "code",
      "source": [
        "r2_score(y_test, y_pred)"
      ],
      "metadata": {
        "colab": {
          "base_uri": "https://localhost:8080/"
        },
        "id": "-vJFkiqj-3ak",
        "outputId": "5116e143-bec4-4e78-c05d-52f7e92d7910"
      },
      "execution_count": 166,
      "outputs": [
        {
          "output_type": "execute_result",
          "data": {
            "text/plain": [
              "0.922905874177941"
            ]
          },
          "metadata": {},
          "execution_count": 166
        }
      ]
    },
    {
      "cell_type": "markdown",
      "source": [
        "## Random Forest Regression"
      ],
      "metadata": {
        "id": "9tzs60isnv6E"
      }
    },
    {
      "cell_type": "markdown",
      "source": [
        "***Import Dataset***\n",
        "\n",
        "---\n",
        "\n"
      ],
      "metadata": {
        "id": "BKoOgUyt_Mde"
      }
    },
    {
      "cell_type": "code",
      "source": [
        "df = pd.read_csv('/content/drive/MyDrive/Machine Learning A-Z (Codes and Datasets)/Model Selection evaluation/Machine Learning A-Z (Model Selection)/Regression/Data.csv')"
      ],
      "metadata": {
        "id": "U9QQoNu3_Mdg"
      },
      "execution_count": 167,
      "outputs": []
    },
    {
      "cell_type": "code",
      "source": [
        "x = df.iloc[:,:-1].values\n",
        "y = df.iloc[:,-1].values"
      ],
      "metadata": {
        "id": "gLIfWeNS_Mdh"
      },
      "execution_count": 168,
      "outputs": []
    },
    {
      "cell_type": "markdown",
      "source": [
        "***Split data***\n",
        "\n",
        "---\n",
        "\n"
      ],
      "metadata": {
        "id": "kEEMxUMH_Mdi"
      }
    },
    {
      "cell_type": "code",
      "source": [
        "x_train, x_test, y_train, y_test = train_test_split(x, y, test_size = 0.2, random_state = 0)"
      ],
      "metadata": {
        "id": "xLQdMLK__Mdi"
      },
      "execution_count": 169,
      "outputs": []
    },
    {
      "cell_type": "markdown",
      "source": [
        "***Training decision tree regression***\n",
        "\n",
        "---\n",
        "\n"
      ],
      "metadata": {
        "id": "RGEQULe8_Mdj"
      }
    },
    {
      "cell_type": "code",
      "source": [
        "regressor = RandomForestRegressor(n_estimators = 10, random_state= 0)\n",
        "regressor.fit(x_train, y_train)"
      ],
      "metadata": {
        "outputId": "942a4896-ebc5-4345-8aca-2202ec00b994",
        "colab": {
          "base_uri": "https://localhost:8080/"
        },
        "id": "eDqOaGp__Mdk"
      },
      "execution_count": 171,
      "outputs": [
        {
          "output_type": "execute_result",
          "data": {
            "text/plain": [
              "RandomForestRegressor(n_estimators=10, random_state=0)"
            ]
          },
          "metadata": {},
          "execution_count": 171
        }
      ]
    },
    {
      "cell_type": "markdown",
      "source": [
        "***Predicting Values***\n",
        "\n",
        "---\n"
      ],
      "metadata": {
        "id": "X4AaQSi9_Mdk"
      }
    },
    {
      "cell_type": "code",
      "source": [
        "y_pred = regressor.predict(x_test)\n",
        "print(np.concatenate((y_pred.reshape(len(y_pred),1),y_test.reshape(len(y_test),1)),1))"
      ],
      "metadata": {
        "outputId": "1bcd517f-367e-4c63-bd0a-11a9b199594f",
        "colab": {
          "base_uri": "https://localhost:8080/"
        },
        "id": "5ndtHaQ6_Mdl"
      },
      "execution_count": 172,
      "outputs": [
        {
          "output_type": "stream",
          "name": "stdout",
          "text": [
            "[[434.05 431.23]\n",
            " [458.79 460.01]\n",
            " [463.02 461.14]\n",
            " ...\n",
            " [469.48 473.26]\n",
            " [439.57 438.  ]\n",
            " [460.38 463.28]]\n"
          ]
        }
      ]
    },
    {
      "cell_type": "markdown",
      "source": [
        "***Evaluating the model***\n",
        "\n",
        "---\n",
        "\n"
      ],
      "metadata": {
        "id": "D7H48kq8_Mdm"
      }
    },
    {
      "cell_type": "code",
      "source": [
        "r2_score(y_test, y_pred)"
      ],
      "metadata": {
        "outputId": "853dd1f9-5af9-46c9-dab2-de374aea5846",
        "colab": {
          "base_uri": "https://localhost:8080/"
        },
        "id": "zSOZ8I9C_Mdm"
      },
      "execution_count": 173,
      "outputs": [
        {
          "output_type": "execute_result",
          "data": {
            "text/plain": [
              "0.9615908334363876"
            ]
          },
          "metadata": {},
          "execution_count": 173
        }
      ]
    }
  ]
}