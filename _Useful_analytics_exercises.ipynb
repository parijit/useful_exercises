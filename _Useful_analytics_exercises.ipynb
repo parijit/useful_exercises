{
  "nbformat": 4,
  "nbformat_minor": 0,
  "metadata": {
    "colab": {
      "provenance": [],
      "authorship_tag": "ABX9TyMuPqItyMYMx5EX4EAgbLVi",
      "include_colab_link": true
    },
    "kernelspec": {
      "name": "python3",
      "display_name": "Python 3"
    },
    "language_info": {
      "name": "python"
    }
  },
  "cells": [
    {
      "cell_type": "markdown",
      "metadata": {
        "id": "view-in-github",
        "colab_type": "text"
      },
      "source": [
        "<a href=\"https://colab.research.google.com/github/parijit/colab_learnings/blob/main/_Useful_analytics_exercises.ipynb\" target=\"_parent\"><img src=\"https://colab.research.google.com/assets/colab-badge.svg\" alt=\"Open In Colab\"/></a>"
      ]
    },
    {
      "cell_type": "code",
      "source": [
        "import pandas as pd\n",
        "import numpy as np"
      ],
      "metadata": {
        "id": "rqrk4KzE-d7Z"
      },
      "execution_count": 1,
      "outputs": []
    },
    {
      "cell_type": "code",
      "execution_count": 2,
      "metadata": {
        "colab": {
          "base_uri": "https://localhost:8080/"
        },
        "id": "j47LhJzd0DzV",
        "outputId": "3edc8dd0-1712-484c-eae0-0e2628e94d31"
      },
      "outputs": [
        {
          "output_type": "stream",
          "name": "stdout",
          "text": [
            "Arijit is analytical\n"
          ]
        }
      ],
      "source": [
        "print('Arijit is analytical')"
      ]
    },
    {
      "cell_type": "code",
      "source": [
        "print(2+2)"
      ],
      "metadata": {
        "id": "U5Wjysfx0ez9",
        "colab": {
          "base_uri": "https://localhost:8080/"
        },
        "outputId": "1d6a15a3-5fb7-456d-9e79-4a30876c1b40"
      },
      "execution_count": 3,
      "outputs": [
        {
          "output_type": "stream",
          "name": "stdout",
          "text": [
            "4\n"
          ]
        }
      ]
    },
    {
      "cell_type": "code",
      "source": [
        "import numpy as np"
      ],
      "metadata": {
        "id": "xG4nztqO12BG"
      },
      "execution_count": 4,
      "outputs": []
    },
    {
      "cell_type": "code",
      "source": [
        "np.version #to view the version u r using\n",
        "np.random.rand?\n",
        " # gives the description of the code"
      ],
      "metadata": {
        "id": "RZ-tEE_R2YHv"
      },
      "execution_count": 5,
      "outputs": []
    },
    {
      "cell_type": "markdown",
      "source": [
        "An ordered List\n",
        "1. One \n",
        "2. Two \n",
        "3. Three"
      ],
      "metadata": {
        "id": "MjegUJzO3fPt"
      }
    },
    {
      "cell_type": "markdown",
      "source": [
        "Displaying a link\n",
        "[Github](https://github.com/parijit/colab_learnings/blob/main/_Useful_analytics_exercises.ipynb)\n"
      ],
      "metadata": {
        "id": "9Yeqd3s230jb"
      }
    },
    {
      "cell_type": "markdown",
      "source": [
        "Displaying an image\n",
        "![Huskies](https://www.spirit-animals.com/wp-content/uploads/2013/10/Husky-1024x416.jpg.webp)"
      ],
      "metadata": {
        "id": "YOj9H83c4BJm"
      }
    },
    {
      "cell_type": "markdown",
      "source": [
        "Mathematical Expressions\n",
        "1. $y =x^2$\n",
        "2. $\\frac{1}{n}\\sum_{i=1}^{n}x_i$"
      ],
      "metadata": {
        "id": "ZoYYgfLL47CD"
      }
    },
    {
      "cell_type": "markdown",
      "source": [
        "Matrix\n",
        "1. $A = \\begin{pmatrix}\n",
        "a_{1,1} & a_{1,2}\\\\\n",
        "a_{2,1} & a_{2,2}\n",
        "\\end{pmatrix}$ "
      ],
      "metadata": {
        "id": "_A6O-VkQ52Rp"
      }
    },
    {
      "cell_type": "markdown",
      "source": [
        "col1|col2|col3\n",
        "---|---|---|\n",
        "val1|val2|val3|\n",
        "val3|val4|val5|"
      ],
      "metadata": {
        "id": "4KBd4X_77OHq"
      }
    },
    {
      "cell_type": "code",
      "source": [
        "pd.__version__"
      ],
      "metadata": {
        "id": "-yvlHxUF2Zll",
        "outputId": "867d84b5-53af-44d8-e429-5e791151efd5",
        "colab": {
          "base_uri": "https://localhost:8080/",
          "height": 36
        }
      },
      "execution_count": 6,
      "outputs": [
        {
          "output_type": "execute_result",
          "data": {
            "text/plain": [
              "'1.3.5'"
            ],
            "application/vnd.google.colaboratory.intrinsic+json": {
              "type": "string"
            }
          },
          "metadata": {},
          "execution_count": 6
        }
      ]
    },
    {
      "cell_type": "markdown",
      "source": [
        "create a Series object and print it to the console.\n",
        "\n"
      ],
      "metadata": {
        "id": "a3K5Izpb_2bT"
      }
    },
    {
      "cell_type": "code",
      "source": [
        "stocks = {'PLW': 387.00, 'CDR': 339.5, 'TEN': 349.5, '11B': 391.0}\n",
        "quotations = pd.Series(data=stocks)\n",
        "print(quotations)"
      ],
      "metadata": {
        "id": "Al9YrbU1-Y42",
        "outputId": "1639b1cc-82c1-41c3-9c53-843930954c5b",
        "colab": {
          "base_uri": "https://localhost:8080/"
        }
      },
      "execution_count": 7,
      "outputs": [
        {
          "output_type": "stream",
          "name": "stdout",
          "text": [
            "PLW    387.0\n",
            "CDR    339.5\n",
            "TEN    349.5\n",
            "11B    391.0\n",
            "dtype: float64\n"
          ]
        }
      ]
    },
    {
      "cell_type": "markdown",
      "source": [
        "Convert quotations to the list and print it to the console."
      ],
      "metadata": {
        "id": "2EwFtM0ZAE0w"
      }
    },
    {
      "cell_type": "code",
      "source": [
        "stocks = {'PLW': 387.00, 'CDR': 339.5, 'TEN': 349.5, '11B': 391.0}\n",
        "quotations = pd.Series(data=stocks)\n",
        "quotations = quotations.to_list()\n",
        "print(quotations)"
      ],
      "metadata": {
        "id": "GKs6XqWc-cY6",
        "outputId": "4792e9e1-2d0c-47f4-f737-a04207424785",
        "colab": {
          "base_uri": "https://localhost:8080/"
        }
      },
      "execution_count": 8,
      "outputs": [
        {
          "output_type": "stream",
          "name": "stdout",
          "text": [
            "[387.0, 339.5, 349.5, 391.0]\n"
          ]
        }
      ]
    },
    {
      "cell_type": "markdown",
      "source": [
        "Convert the quotations to the DataFrame and set the column name to 'price'. In response, print this DataFrame to the console."
      ],
      "metadata": {
        "id": "fGHvh_JwB7lB"
      }
    },
    {
      "cell_type": "code",
      "source": [
        "#...\n",
        "\n",
        "\n",
        "stocks = {'PLW': 387.00, 'CDR': 339.5, 'TEN': 349.5, '11B': 391.0}\n",
        "quotations = pd.Series(data=stocks)\n",
        "quotations=pd.DataFrame(quotations, columns= ['Price'])\n",
        "print(quotations)"
      ],
      "metadata": {
        "id": "ASLZCjB3Aay0",
        "outputId": "565fad4e-1013-40e3-8af1-64e9ece655ec",
        "colab": {
          "base_uri": "https://localhost:8080/"
        }
      },
      "execution_count": 9,
      "outputs": [
        {
          "output_type": "stream",
          "name": "stdout",
          "text": [
            "     Price\n",
            "PLW  387.0\n",
            "CDR  339.5\n",
            "TEN  349.5\n",
            "11B  391.0\n"
          ]
        }
      ]
    },
    {
      "cell_type": "markdown",
      "source": [
        "Using the numpy and pandas create the following Series:\n",
        "\n",
        "\n",
        "col1|col2|\n",
        "---|---|\n",
        "101|10.0|\n",
        "102|20.0|\n",
        "103|30.0|\n",
        "104|40.0|\n",
        "105|50.0|\n",
        "106|60.0|\n",
        "107|70.0|\n",
        "108|80.0|\n",
        "109|90.0|"
      ],
      "metadata": {
        "id": "X9O4YZQWDL3O"
      }
    },
    {
      "cell_type": "code",
      "source": [
        "pd.Series(data=np.arange(10,100,10),index=np.arange(101,110))"
      ],
      "metadata": {
        "id": "Yv3AQaaJCMAd",
        "outputId": "5ae603bf-cc7c-4e44-e32d-cb3d89e2317a",
        "colab": {
          "base_uri": "https://localhost:8080/"
        }
      },
      "execution_count": 10,
      "outputs": [
        {
          "output_type": "execute_result",
          "data": {
            "text/plain": [
              "101    10\n",
              "102    20\n",
              "103    30\n",
              "104    40\n",
              "105    50\n",
              "106    60\n",
              "107    70\n",
              "108    80\n",
              "109    90\n",
              "dtype: int64"
            ]
          },
          "metadata": {},
          "execution_count": 10
        }
      ]
    },
    {
      "cell_type": "markdown",
      "source": [
        "Convert its type to int and print this Series to the console."
      ],
      "metadata": {
        "id": "94FgHO72UjUZ"
      }
    },
    {
      "cell_type": "code",
      "source": [
        "series = pd.Series(['001', '002', '003', '004'], list('abcd'))"
      ],
      "metadata": {
        "id": "CJ6eahKVEGpK"
      },
      "execution_count": 12,
      "outputs": []
    },
    {
      "cell_type": "code",
      "source": [
        "type(series)"
      ],
      "metadata": {
        "id": "A74EfajqUX9C",
        "outputId": "882f3865-d75a-42ce-b67a-d18f464323cf",
        "colab": {
          "base_uri": "https://localhost:8080/"
        }
      },
      "execution_count": 14,
      "outputs": [
        {
          "output_type": "execute_result",
          "data": {
            "text/plain": [
              "pandas.core.series.Series"
            ]
          },
          "metadata": {},
          "execution_count": 14
        }
      ]
    },
    {
      "cell_type": "code",
      "source": [
        "series= series.astype('int')\n",
        "print(series)"
      ],
      "metadata": {
        "id": "CJLqFkS8UYpJ",
        "outputId": "4ba7b68a-c80b-4052-9936-58f790869bc0",
        "colab": {
          "base_uri": "https://localhost:8080/"
        }
      },
      "execution_count": 17,
      "outputs": [
        {
          "output_type": "stream",
          "name": "stdout",
          "text": [
            "a    1\n",
            "b    2\n",
            "c    3\n",
            "d    4\n",
            "dtype: int64\n"
          ]
        }
      ]
    },
    {
      "cell_type": "code",
      "source": [
        "series"
      ],
      "metadata": {
        "id": "0nTcdjnIUv5e",
        "outputId": "65cb74e0-f495-476c-c82b-bbe7139b4f5d",
        "colab": {
          "base_uri": "https://localhost:8080/"
        }
      },
      "execution_count": 16,
      "outputs": [
        {
          "output_type": "execute_result",
          "data": {
            "text/plain": [
              "a    001\n",
              "b    002\n",
              "c    003\n",
              "d    004\n",
              "dtype: object"
            ]
          },
          "metadata": {},
          "execution_count": 16
        }
      ]
    },
    {
      "cell_type": "markdown",
      "source": [
        "Add two elements to this Series:\n",
        "\n",
        "key: 'BBT', value: 25.5\n",
        "\n",
        "key: 'F51', value: 19.2\n",
        "\n",
        "In response, print quotations Series to the console."
      ],
      "metadata": {
        "id": "X3rYP73hVSnb"
      }
    },
    {
      "cell_type": "code",
      "source": [
        "stocks = {'PLW': 387.00, 'CDR': 339.5, 'TEN': 349.5, '11B': 391.0}\n",
        "quotations = pd.Series(data=stocks)\n"
      ],
      "metadata": {
        "id": "-YaOgji6Uzw1"
      },
      "execution_count": 25,
      "outputs": []
    },
    {
      "cell_type": "code",
      "source": [
        "#quotations['BBT'] = 25.5\n",
        "#quotations['F51'] = 19.2\n",
        "#print(quotations)\n",
        "#or\n",
        "quotations = quotations.append(pd.Series({'BBT': 25.5, 'F51': 19.2}))\n",
        "print(quotations)"
      ],
      "metadata": {
        "id": "aif65gw0XxQZ",
        "outputId": "c16220e4-42fe-484d-a89f-18acab2d5666",
        "colab": {
          "base_uri": "https://localhost:8080/"
        }
      },
      "execution_count": 26,
      "outputs": [
        {
          "output_type": "stream",
          "name": "stdout",
          "text": [
            "PLW    387.0\n",
            "CDR    339.5\n",
            "TEN    349.5\n",
            "11B    391.0\n",
            "BBT     25.5\n",
            "F51     19.2\n",
            "dtype: float64\n"
          ]
        }
      ]
    },
    {
      "cell_type": "code",
      "source": [
        "quotations"
      ],
      "metadata": {
        "id": "IWcvIQrLVtxL",
        "outputId": "598568e9-d81b-4d2d-e064-ed1531785a8c",
        "colab": {
          "base_uri": "https://localhost:8080/"
        }
      },
      "execution_count": 19,
      "outputs": [
        {
          "output_type": "execute_result",
          "data": {
            "text/plain": [
              "PLW    387.0\n",
              "CDR    339.5\n",
              "TEN    349.5\n",
              "11B    391.0\n",
              "BBT     25.5\n",
              "dtype: float64"
            ]
          },
          "metadata": {},
          "execution_count": 19
        }
      ]
    },
    {
      "cell_type": "markdown",
      "source": [
        "Convert the following quotations Series:\n",
        "\n",
        "\n",
        "\n",
        "stocks = {\n",
        "  \n",
        "    'PLW': 387.00, \n",
        "    'CDR': 339.5, \n",
        "    'TEN': 349.5, \n",
        "    '11B': 391.0, \n",
        "    'BBT': 25.5, \n",
        "    'F51': 19.2\n",
        "}\n",
        "\n",
        "\n",
        "quotations = pd.Series(data=stocks)\n",
        "\n",
        "\n",
        "to DataFrame. Reset the index and name the columns 'ticker' and 'price' respectively.\n",
        "\n",
        "In response, print this DataFrame to the console."
      ],
      "metadata": {
        "id": "yENW8lBZYKoW"
      }
    },
    {
      "cell_type": "code",
      "source": [
        "stocks = {\n",
        "    'PLW': 387.00, \n",
        "    'CDR': 339.5, \n",
        "    'TEN': 349.5, \n",
        "    '11B': 391.0, \n",
        "    'BBT': 25.5, \n",
        "    'F51': 19.2\n",
        "}\n",
        "quotations = pd.Series(data=stocks)"
      ],
      "metadata": {
        "id": "yHPrmpTGVxRK"
      },
      "execution_count": 47,
      "outputs": []
    },
    {
      "cell_type": "code",
      "source": [
        "quotations =quotations.reset_index()\n",
        "quotations = pd.DataFrame(quotations)\n",
        "quotations.columns=['ticker','price']\n",
        "print(quotations)\n"
      ],
      "metadata": {
        "id": "M4gcWwUZYkl7",
        "outputId": "6f91e62f-4bfe-4865-fb9f-c73bc835b122",
        "colab": {
          "base_uri": "https://localhost:8080/"
        }
      },
      "execution_count": 49,
      "outputs": [
        {
          "output_type": "stream",
          "name": "stdout",
          "text": [
            "  ticker  price\n",
            "0    PLW  387.0\n",
            "1    CDR  339.5\n",
            "2    TEN  349.5\n",
            "3    11B  391.0\n",
            "4    BBT   25.5\n",
            "5    F51   19.2\n"
          ]
        }
      ]
    },
    {
      "cell_type": "code",
      "source": [
        "type(quotations)"
      ],
      "metadata": {
        "id": "vs3EI_CgZn8w",
        "outputId": "6ce05e8c-4487-48bc-dee1-ca04830f87ec",
        "colab": {
          "base_uri": "https://localhost:8080/"
        }
      },
      "execution_count": 50,
      "outputs": [
        {
          "output_type": "execute_result",
          "data": {
            "text/plain": [
              "pandas.core.frame.DataFrame"
            ]
          },
          "metadata": {},
          "execution_count": 50
        }
      ]
    },
    {
      "cell_type": "markdown",
      "source": [
        "Create the following DataFrame object and assign it to the companies variable:\n",
        "\n",
        "\n",
        "\n",
        "index|company|price|ticker|\n",
        "---|---|---|---|\n",
        "0|Amazon|2375.0|AMZN.US|\n",
        "1|Microsoft|   178.6|  MSFT.US|\n",
        "2|   Facebook|   179.2|    FB.US|\n",
        "\n",
        "\n",
        "In response, print companies DataFrame to the console.\n",
        "\n"
      ],
      "metadata": {
        "id": "NJat7c4dcoq2"
      }
    },
    {
      "cell_type": "code",
      "source": [
        "companies ={'company' :['Amazon','Microsoft','Facebook'],\n",
        "            'price'   :[2375.0,178.6,179.2],\n",
        "            'ticker'  :['AMZN.US','MSFT.US','FB.US']\n",
        "            }\n",
        "companies=pd.DataFrame(companies)\n",
        "print(companies)"
      ],
      "metadata": {
        "id": "NZILFpfda5Og",
        "outputId": "1315b138-0c71-4cd7-d4f4-e51bd28d5d74",
        "colab": {
          "base_uri": "https://localhost:8080/"
        }
      },
      "execution_count": 54,
      "outputs": [
        {
          "output_type": "stream",
          "name": "stdout",
          "text": [
            "     company   price   ticker\n",
            "0     Amazon  2375.0  AMZN.US\n",
            "1  Microsoft   178.6  MSFT.US\n",
            "2   Facebook   179.2    FB.US\n"
          ]
        }
      ]
    },
    {
      "cell_type": "markdown",
      "source": [
        "Convert the first column of the companies DataFrame to index. In response, print companies DataFrame to the console.\n",
        "\n",
        "\n",
        "\n",
        "Expected result:\n",
        "\n",
        "\n",
        "\n",
        "company|          price|   ticker|\n",
        "---|---|---|                   \n",
        "Amazon|     2375.0|  AMZN.US|\n",
        "Microsoft|   178.6 | MSFT.US|\n",
        "Facebook |   179.2|    FB.US|"
      ],
      "metadata": {
        "id": "Uc0yv7K0euW-"
      }
    },
    {
      "cell_type": "code",
      "source": [
        "data_dict = {\n",
        "    'company': ['Amazon', 'Microsoft', 'Facebook'],\n",
        "    'price': [2375.00, 178.6, 179.2],\n",
        "    'ticker': ['AMZN.US', 'MSFT.US', 'FB.US']\n",
        "}\n",
        "\n",
        "companies = pd.DataFrame(data=data_dict)\n"
      ],
      "metadata": {
        "id": "xbJon3XzeKVr"
      },
      "execution_count": 55,
      "outputs": []
    },
    {
      "cell_type": "code",
      "source": [
        "companies.set_index('company',inplace=True)\n",
        "print(companies)"
      ],
      "metadata": {
        "id": "NSovhWSMfN0R",
        "outputId": "176facdb-9b1b-4566-955e-b898558c6ea2",
        "colab": {
          "base_uri": "https://localhost:8080/"
        }
      },
      "execution_count": 57,
      "outputs": [
        {
          "output_type": "stream",
          "name": "stdout",
          "text": [
            "            price   ticker\n",
            "company                   \n",
            "Amazon     2375.0  AMZN.US\n",
            "Microsoft   178.6  MSFT.US\n",
            "Facebook    179.2    FB.US\n"
          ]
        }
      ]
    },
    {
      "cell_type": "markdown",
      "source": [
        "Create the DatetimeIndex object containing the yyyy-mm-dd format dates for all days from January 2020 and assign it to the date_range variable. In response, print this variable to the console.\n",
        "\n",
        "\n",
        "[DatetimeIndex(['2020-01-01', '2020-01-02', '2020-01-03', '2020-01-04',\n",
        "\n",
        "               '2020-01-05', '2020-01-06', '2020-01-07', '2020-01-08',\n",
        "               '2020-01-09', '2020-01-10', '2020-01-11', '2020-01-12',\n",
        "               '2020-01-13', '2020-01-14', '2020-01-15', '2020-01-16',\n",
        "               '2020-01-17', '2020-01-18', '2020-01-19', '2020-01-20',\n",
        "               '2020-01-21', '2020-01-22', '2020-01-23', '2020-01-24',\n",
        "               '2020-01-25', '2020-01-26', '2020-01-27', '2020-01-28',\n",
        "               '2020-01-29', '2020-01-30', '2020-01-31'],\n",
        "              dtype='datetime64[ns]', freq='D')*\n",
        "\n",
        "\n",
        "\n"
      ],
      "metadata": {
        "id": "ZjdYxpVLgCne"
      }
    },
    {
      "cell_type": "code",
      "source": [
        "date_range=pd.date_range('1.1.2020',periods=31)\n",
        "print(date_range)"
      ],
      "metadata": {
        "id": "kHdx6nFpfVG4",
        "outputId": "b7a1141b-46e7-4bcb-85ff-ea5b13d818c3",
        "colab": {
          "base_uri": "https://localhost:8080/"
        }
      },
      "execution_count": 60,
      "outputs": [
        {
          "output_type": "stream",
          "name": "stdout",
          "text": [
            "DatetimeIndex(['2020-01-01', '2020-01-02', '2020-01-03', '2020-01-04',\n",
            "               '2020-01-05', '2020-01-06', '2020-01-07', '2020-01-08',\n",
            "               '2020-01-09', '2020-01-10', '2020-01-11', '2020-01-12',\n",
            "               '2020-01-13', '2020-01-14', '2020-01-15', '2020-01-16',\n",
            "               '2020-01-17', '2020-01-18', '2020-01-19', '2020-01-20',\n",
            "               '2020-01-21', '2020-01-22', '2020-01-23', '2020-01-24',\n",
            "               '2020-01-25', '2020-01-26', '2020-01-27', '2020-01-28',\n",
            "               '2020-01-29', '2020-01-30', '2020-01-31'],\n",
            "              dtype='datetime64[ns]', freq='D')\n"
          ]
        }
      ]
    },
    {
      "cell_type": "code",
      "source": [],
      "metadata": {
        "id": "2xShLcbLhcL0"
      },
      "execution_count": null,
      "outputs": []
    }
  ]
}